{
 "cells": [
  {
   "cell_type": "code",
   "execution_count": 53,
   "metadata": {},
   "outputs": [],
   "source": [
    "import os\n",
    "\n",
    "openai_api_key=os.getenv(\"openai_api_key\")\n",
    "AZURE_OPENAI_DEPLOYMENT_NAME = os.getenv('deployment_name')\n",
    "AZURE_OPENAI_ENDPOINT = os.getenv(\"endpoint\")\n",
    "AZURE_OPENAI_API_VERSION = os.getenv(\"version\")"
   ]
  },
  {
   "cell_type": "code",
   "execution_count": 54,
   "metadata": {},
   "outputs": [
    {
     "name": "stderr",
     "output_type": "stream",
     "text": [
      "d:\\Yash-Python\\Lib\\site-packages\\langchain_community\\chat_models\\azure_openai.py:174: UserWarning: As of openai>=1.0.0, Azure endpoints should be specified via the `azure_endpoint` param not `openai_api_base` (or alias `base_url`). Updating `openai_api_base` from https://soa-openai-sc.openai.azure.com/ to https://soa-openai-sc.openai.azure.com/openai.\n",
      "  warnings.warn(\n",
      "d:\\Yash-Python\\Lib\\site-packages\\langchain_community\\chat_models\\azure_openai.py:181: UserWarning: As of openai>=1.0.0, if `deployment_name` (or alias `azure_deployment`) is specified then `openai_api_base` (or alias `base_url`) should not be. Instead use `deployment_name` (or alias `azure_deployment`) and `azure_endpoint`.\n",
      "  warnings.warn(\n",
      "d:\\Yash-Python\\Lib\\site-packages\\langchain_community\\chat_models\\azure_openai.py:189: UserWarning: As of openai>=1.0.0, if `openai_api_base` (or alias `base_url`) is specified it is expected to be of the form https://example-resource.azure.openai.com/openai/deployments/example-deployment. Updating https://soa-openai-sc.openai.azure.com/ to https://soa-openai-sc.openai.azure.com/openai.\n",
      "  warnings.warn(\n"
     ]
    }
   ],
   "source": [
    "from langchain.chat_models import AzureChatOpenAI\n",
    "\n",
    "llm= AzureChatOpenAI(\n",
    "    deployment_name=AZURE_OPENAI_DEPLOYMENT_NAME,\n",
    "    openai_api_base=AZURE_OPENAI_ENDPOINT,\n",
    "    openai_api_key=openai_api_key,\n",
    "    openai_api_version=AZURE_OPENAI_API_VERSION\n",
    ")"
   ]
  },
  {
   "cell_type": "code",
   "execution_count": 55,
   "metadata": {},
   "outputs": [],
   "source": [
    "from langchain_core.tools import Tool\n",
    "from langchain_google_community import GoogleSearchAPIWrapper\n",
    "\n",
    "search = GoogleSearchAPIWrapper(\n",
    "    k=2\n",
    ")\n",
    "\n",
    "google_search = Tool(\n",
    "    name=\"google_search\",\n",
    "    func=search.run,\n",
    "    description=\"Search Engine\",\n",
    "    max_tokens=500\n",
    ")"
   ]
  },
  {
   "cell_type": "code",
   "execution_count": 56,
   "metadata": {},
   "outputs": [],
   "source": [
    "from typing import List, Dict, Optional\n",
    "from pydantic import BaseModel, Field, validator\n",
    "\n",
    "class Enrich(BaseModel):\n",
    "    Product: str = Field(description=\"Name/Type of the product in the query\", default=\"N/A\")\n",
    "    Dimension: str = Field(description=\"Dimension of product\", default=\"N/A\")\n",
    "    Enriched_Query: str = Field(description=\"Reformulate the user query into a well-defined and detailed format\", default=\"N/A\")\n",
    "\n",
    "class Valid_1(BaseModel):\n",
    "    status: bool = Field(description=\"Validation status either true/false\", default=False)\n",
    "    suggestion: str = Field(description=\"If status is True, provide detailed improvement suggestions. If status is False, write N/A\", default=\"N/A\")\n",
    "\n",
    "class MatchResult(BaseModel):\n",
    "    Product: bool = Field(description=\"Does product matched, true or false.\", default=False)\n",
    "    Dimension: bool = Field(description=\"Does dimension of product matched, true or false.\", default=False)\n",
    "\n",
    "class ProductDetails(BaseModel):\n",
    "    Product_id: str=Field(description=\"Product id\")\n",
    "    description: str=Field(description=\"Description of the product\")\n",
    "    Matching_Numerical_Entities: Optional[int] = Field(description=\"Number of Matching Numerical Entities\", default=0)\n",
    "    Matching_Non_Numerical_Entities: Optional[int] = Field(description=\"Number of matched non-numerical entities\", default=0)\n",
    "\n",
    "class Product(BaseModel):\n",
    "    Product_id: Optional[str]\n",
    "    Manufacturer_Part_No: Optional[str] = Field(alias=\"Manufacturer Part No. \")\n",
    "    description: Optional[str]\n",
    "    stock_type: Optional[int]\n",
    "    additional_information: Optional[Dict[str, str]]=Field(default_factory={})\n",
    "\n",
    "class num_nnum(BaseModel):\n",
    "    Numerical_Entities: Optional[List[str]] = Field(\n",
    "        description=\"list of the numerical entities\",\n",
    "        default_factory=list\n",
    "    )\n",
    "    Non_Numerical_Entities: Optional[List[str]] = Field(\n",
    "        description=\"list of non-numerical entities\",\n",
    "        default_factory=list\n",
    "    )\n",
    "\n",
    "class State(BaseModel):\n",
    "    query: Optional[str]=Field(default=\" \")\n",
    "    context: Optional[str]=Field(default=\" \")\n",
    "    output_1: Optional[Enrich]=Field(default_factory=Enrich)\n",
    "    valid: Valid_1=Field(default_factory=Valid_1)\n",
    "    entities:Optional[num_nnum]=Field(default_factory=num_nnum)\n",
    "    # products_list: List[Product]\n",
    "    # t_n_f_list: Optional[List[MatchResult]]\n",
    "    # output_2: Optional[List[ProductDetails]]"
   ]
  },
  {
   "cell_type": "code",
   "execution_count": 57,
   "metadata": {},
   "outputs": [
    {
     "data": {
      "text/plain": [
       "State(query=' ', context=' ', output_1=Enrich(Product='N/A', Dimension='N/A', Enriched_Query='N/A'), valid=Valid_1(status=False, suggestion='N/A'), entities=num_nnum(Numerical_Entities=[], Non_Numerical_Entities=[]))"
      ]
     },
     "execution_count": 57,
     "metadata": {},
     "output_type": "execute_result"
    }
   ],
   "source": [
    "check=State()\n",
    "check"
   ]
  },
  {
   "cell_type": "code",
   "execution_count": 58,
   "metadata": {},
   "outputs": [],
   "source": [
    "def demo(state:State):\n",
    "    val=state.valid\n",
    "    return val"
   ]
  },
  {
   "cell_type": "code",
   "execution_count": 59,
   "metadata": {},
   "outputs": [],
   "source": [
    "# state=State()\n",
    "# print(demo(state))"
   ]
  },
  {
   "cell_type": "code",
   "execution_count": 60,
   "metadata": {},
   "outputs": [],
   "source": [
    "def google(state:State)->str:\n",
    "    return {\"context\":google_search.invoke(state.query)}"
   ]
  },
  {
   "cell_type": "code",
   "execution_count": 61,
   "metadata": {},
   "outputs": [],
   "source": [
    "from langchain_core.output_parsers import JsonOutputParser\n",
    "from langchain_core.prompts import PromptTemplate"
   ]
  },
  {
   "cell_type": "code",
   "execution_count": 62,
   "metadata": {},
   "outputs": [],
   "source": [
    "# google_search.invoke(\"2 in x 2 in x 3/4 in thrd tee C.S\")"
   ]
  },
  {
   "cell_type": "code",
   "execution_count": 63,
   "metadata": {},
   "outputs": [],
   "source": [
    "def query_enrich(state: State)->Dict[str,str]:\n",
    "    system_prompt = \"\"\"\n",
    "        You are given a product description along with some context. Your task is to extract relevant information and return it as a structured. It should include fields such as the product's quantity, name, and no additional details that can be inferred from the context.\n",
    "        Only give the output, no description is needed.\n",
    "        You are also provided with the possible changes that should be made while giving output.\n",
    "        \n",
    "        Query:{query}\n",
    "        Context:{context}\n",
    "        Suggestion:{suggest}\n",
    "\n",
    "        Output:\n",
    "        Product:(Name/Type of the product in the query),\n",
    "        Dimension:(Dimension of product),\n",
    "        Enriched_Query:(Reformulate the user query into a well-defined and detailed format by utilizing both the query and the provided context.),\n",
    "\n",
    "        MUST INCLUDE THESE THREE PARAMETERS IN OUTPUT.\n",
    "        In {format}\n",
    "        \"\"\"\n",
    "\n",
    "    parser = JsonOutputParser(pydantic_object=Enrich)\n",
    "\n",
    "    prompt = PromptTemplate(\n",
    "        template=system_prompt,\n",
    "        input_variables=[\"query\",\"context\",\"suggest\"],\n",
    "        partial_variables={\"format\": parser.get_format_instructions()},\n",
    "    )\n",
    "    chain = prompt | llm | parser\n",
    "\n",
    "    # Get the response as a Pydantic model\n",
    "    response = chain.invoke({\n",
    "        \"query\":state.query,\n",
    "        \"context\":state.context,\n",
    "        \"suggest\":state.valid.suggestion\n",
    "    })\n",
    "\n",
    "    return {\"output_1\": response}"
   ]
  },
  {
   "cell_type": "code",
   "execution_count": 64,
   "metadata": {},
   "outputs": [],
   "source": [
    "def valid_1(state: State)->Dict[str,str]:\n",
    "    system_prompt = \"\"\"\n",
    "        You are an expert Supervisor Model tasked with evaluating the quality of outputs generated by an AI agent. Your responsibilities include:\n",
    "        1. Checking if the output meets the specified expectations.\n",
    "        2. Providing actionable feedback if the output deviates from expectations.\n",
    "\n",
    "        ### Evaluation Criteria:\n",
    "        - **Status**:\n",
    "        - Mark `status` as **True** if the output does not meet the expectations, and provide improvement suggestions.\n",
    "        - Mark `status` as **False** if the output aligns with expectations, and write \"N/A\" in the `suggestion` field.\n",
    "\n",
    "        ### Expectations:\n",
    "        The output should:\n",
    "        1. Extract relevant information from the input query and context.\n",
    "        2. Return the information in a **structured format**, including the following fields:\n",
    "        - **Product**: The name or type of the product mentioned in the query.\n",
    "        - **Dimension**: The dimensions of the product, if provided in the context.\n",
    "        - **Enriched_Query**: A reformulated version of the user query that is well-defined, detailed, and utilizes both the query and context.\n",
    "        3. Avoid including additional or inferred details not explicitly mentioned in the query or context.\n",
    "\n",
    "        ### Input Details:\n",
    "        - **Query**: {query}\n",
    "        - **Context**: {context}\n",
    "\n",
    "        ### AI Agent's Output:\n",
    "        - **Output**: {output}\n",
    "\n",
    "        ### Required Output:\n",
    "        You must return:\n",
    "        status: (True/False) — Whether the output meets expectations.\n",
    "        suggestion: (If `status` is True, provide detailed improvement suggestions. If `status` is False, write \"N/A\".)\n",
    "\n",
    "        Format:{format}\n",
    "\"\"\"\n",
    "\n",
    "    parser = JsonOutputParser(pydantic_object=Valid_1)\n",
    "\n",
    "    prompt = PromptTemplate(\n",
    "        template=system_prompt,\n",
    "        input_variables=[\"query\",\"context\",\"output\"],\n",
    "        partial_variables={\"format\": parser.get_format_instructions()},\n",
    "    )\n",
    "    chain = prompt | llm | parser\n",
    "\n",
    "    # Get the response as a Pydantic model\n",
    "    response = chain.invoke({\n",
    "        \"query\":state.query,\n",
    "        \"context\":state.context,\n",
    "        \"output\":state.output_1\n",
    "    })   \n",
    "    # state.valid=response\n",
    "    return {\"valid\":response}\n"
   ]
  },
  {
   "cell_type": "code",
   "execution_count": 65,
   "metadata": {},
   "outputs": [],
   "source": [
    "def condition_1(state:State)->str:\n",
    "    if state.valid.status:\n",
    "        return \"repeat\"\n",
    "    return \"next\""
   ]
  },
  {
   "cell_type": "code",
   "execution_count": 66,
   "metadata": {},
   "outputs": [],
   "source": [
    "def entity(state:State)->Dict[str,str]:\n",
    "    system_prompt = \"\"\"\n",
    "        You are an expert data analyzer. Your task is to extract and classify entities from a given query into two categories: **numerical entities** and **non-numerical entities**.You can also refer to suggestion provided by the validator to give the similar output. Provide the results strictly in the following format below:\n",
    "\n",
    "        General list of numerical entities:\n",
    "        - Amount \n",
    "        - Count \n",
    "        - Percentage \n",
    "        - Date \n",
    "        - Time \n",
    "        - Distance \n",
    "        - Quantity \n",
    "        - Rate \n",
    "        - Rank \n",
    "        - Size \n",
    "        - ID Number\n",
    "        - Dimension\n",
    "\n",
    "        General list of non-numerical entities:\n",
    "        - Organization \n",
    "        - Person \n",
    "        - Location \n",
    "        - Product \n",
    "        - Service \n",
    "        - Event \n",
    "        - Process \n",
    "        - Category \n",
    "        - Attribute \n",
    "        - Keyword \n",
    "        - Industry \n",
    "\n",
    "        Input Query: \n",
    "        Original user query:{query}\n",
    "        Enriched user query:{enrich_query}\n",
    "        Suggestion:{suggest}\n",
    "\n",
    "        Output:\n",
    "        Numerical_Entities: list of numerical entities present in the Input (Use N/A if not found)\n",
    "        Non_Numerical_Entities: list of unique non-numerical entities present in the Input(Use N/A if not found)\n",
    "\n",
    "        ### Example:\n",
    "\n",
    "        Input Query: \n",
    "        Original user query: 10 2-2-3/4 threaded tee C.S \n",
    "        Enriched user query: 10 quantities of 2-inch by 2-inch by 3/4-inch threaded tee fitting made of carbon steel (C.S.)\n",
    "\n",
    "        Output:\n",
    "        Numerical_Entities: [10, 2-inch by 2-inch by 3/4-inch],\n",
    "        Non_Numerical_Entities: [\"threaded tee fitting\", \"carbon steel\"]\n",
    "\n",
    "        ONLY GIVE OUTPUT. DO NOT INCLUDE EXTRA INFORMATION, SYMBOLS, OR TEXT.\n",
    "        {format}\n",
    "    \"\"\"\n",
    "    parser=JsonOutputParser(pydantic_object=num_nnum)\n",
    "    prompt=PromptTemplate(\n",
    "        template=system_prompt,\n",
    "        input_variables=[\"query\",\"enrich_query\",\"suggest\"],\n",
    "        partial_variables={\"format\":parser.get_format_instructions()}\n",
    "    )\n",
    "\n",
    "    chain=prompt | llm | parser\n",
    "\n",
    "    response=chain.invoke({\n",
    "        \"query\":state.query,\n",
    "        \"enrich_query\":state.output_1.Enriched_Query,\n",
    "        \"suggest\":state.valid.suggestion\n",
    "    })\n",
    "    return {\"entities\":response}\n"
   ]
  },
  {
   "cell_type": "code",
   "execution_count": 67,
   "metadata": {},
   "outputs": [],
   "source": [
    "def valid_2(state:State)->str:\n",
    "    system_prompt = \"\"\"\n",
    "        You are a Supervisor Model evaluating the quality of an AI agent's output. Your tasks are to:\n",
    "        1. Verify if the output meets expectations.\n",
    "        2. Provide actionable feedback if it deviates from expectations.\n",
    "\n",
    "        ### Evaluation Criteria:\n",
    "        **Status**: \n",
    "        - Set to **True** if the output does not meet expectations, and provide improvement suggestions (examples are allowed).\n",
    "        - Set to **False** if the output meets expectations, and write \"N/A\" in `suggestion`.\n",
    "\n",
    "        ### Expectations:\n",
    "            General list of numerical entities:\n",
    "            - Amount \n",
    "            - Count \n",
    "            - Percentage \n",
    "            - Date \n",
    "            - Time \n",
    "            - Distance \n",
    "            - Quantity \n",
    "            - Rate \n",
    "            - Rank \n",
    "            - Size \n",
    "            - ID Number\n",
    "            - Dimension\n",
    "\n",
    "            General list of non-numerical entities:\n",
    "            - Organization \n",
    "            - Person \n",
    "            - Location \n",
    "            - Product \n",
    "            - Service \n",
    "            - Event \n",
    "            - Process \n",
    "            - Category \n",
    "            - Attribute \n",
    "            - Keyword \n",
    "            - Industry \n",
    "            \n",
    "            For example\n",
    "            - Numerical_Entities: [10, 2-inch by 2-inch by 3/4-inch],\n",
    "            - Non_Numerical_Entities: [\"threaded tee fitting\", \"carbon steel\"]\n",
    "\n",
    "        ### Inputs:\n",
    "        - **User Query**: {query}\n",
    "        - **Enriched Query**: {context}\n",
    "        - **AI Output**: {output}\n",
    "\n",
    "        ### Required Output:\n",
    "        - `status`: True (if the output deviates) or False (if it meets expectations).\n",
    "        - `suggestion`: Detailed feedback if `status` is True; \"N/A\" if `status` is False.\n",
    "\n",
    "        Output Format: {format}\n",
    "\"\"\"\n",
    "\n",
    "\n",
    "    parser = JsonOutputParser(pydantic_object=Valid_1)\n",
    "\n",
    "    prompt = PromptTemplate(\n",
    "        template=system_prompt,\n",
    "        input_variables=[\"query\",\"context\",\"output\"],\n",
    "        partial_variables={\"format\": parser.get_format_instructions()},\n",
    "    )\n",
    "    chain = prompt | llm | parser\n",
    "\n",
    "    # Get the response as a Pydantic model\n",
    "    response = chain.invoke({\n",
    "        \"query\":state.query,\n",
    "        \"context\":state.output_1.Enriched_Query,\n",
    "        \"output\":state.entities\n",
    "    })   \n",
    "    # state.valid=response\n",
    "    # response['status']=False\n",
    "    return {\"valid\":response}"
   ]
  },
  {
   "cell_type": "code",
   "execution_count": 68,
   "metadata": {},
   "outputs": [],
   "source": [
    "from langgraph.graph import StateGraph, START, END\n",
    "\n",
    "graph_builder = StateGraph(State)\n",
    "\n",
    "graph_builder.add_node(\"search\", google)\n",
    "graph_builder.add_node(\"enrichment\", query_enrich)\n",
    "graph_builder.add_node(\"validator_1\", valid_1)\n",
    "graph_builder.add_node(\"entity\",entity)\n",
    "graph_builder.add_node(\"validator_2\",valid_2)\n",
    "graph_builder.add_edge(START, \"search\")\n",
    "graph_builder.add_edge(\"search\", \"enrichment\")\n",
    "graph_builder.add_edge(\"enrichment\",\"validator_1\")\n",
    "# graph_builder.add_edge(\"validator\",END)\n",
    "graph_builder.add_conditional_edges(\n",
    "    \"validator_1\",\n",
    "     condition_1, \n",
    "    {\n",
    "        \"repeat\": \"enrichment\",\n",
    "        \"next\": \"entity\"\n",
    "    }\n",
    ")\n",
    "graph_builder.add_edge(\"entity\",\"validator_2\")\n",
    "graph_builder.add_conditional_edges(\n",
    "    \"validator_2\",\n",
    "     condition_1, \n",
    "    {\n",
    "        \"repeat\": \"entity\",\n",
    "        \"next\": END\n",
    "    }\n",
    ")"
   ]
  },
  {
   "cell_type": "code",
   "execution_count": 69,
   "metadata": {},
   "outputs": [],
   "source": [
    "graph=graph_builder.compile()"
   ]
  },
  {
   "cell_type": "code",
   "execution_count": 70,
   "metadata": {},
   "outputs": [
    {
     "data": {
      "image/png": "[encoded data removed]",
      "text/plain": [
       "<IPython.core.display.Image object>"
      ]
     },
     "metadata": {},
     "output_type": "display_data"
    }
   ],
   "source": [
    "from IPython.display import Image, display\n",
    "\n",
    "try:\n",
    "    display(Image(graph.get_graph().draw_mermaid_png()))\n",
    "except Exception:\n",
    "\n",
    "    pass"
   ]
  },
  {
   "cell_type": "code",
   "execution_count": 71,
   "metadata": {},
   "outputs": [],
   "source": [
    "user_input=\"3 in(inch) schedule sch(schedule) 10 316 90s(90 short radius) 90 degree elbow\""
   ]
  },
  {
   "cell_type": "code",
   "execution_count": 72,
   "metadata": {},
   "outputs": [],
   "source": [
    "# user_input=\"Hello how are you!\""
   ]
  },
  {
   "cell_type": "code",
   "execution_count": 73,
   "metadata": {},
   "outputs": [],
   "source": [
    "context_data=[\n",
    "    {\n",
    "        \"Product_id\": \"75fnte\",\n",
    "        \"Manufacturer Part No. \": \"75fnte\",\n",
    "        \"description\": \"lock nut thin nylon insert measurement system imperial 3/4 - 16 thread\",\n",
    "        \"stock_type\": 1,\n",
    "        \"additional_information\": {}\n",
    "    }]"
   ]
  },
  {
   "cell_type": "code",
   "execution_count": 74,
   "metadata": {},
   "outputs": [],
   "source": [
    "from langgraph.errors import GraphRecursionError\n",
    "\n",
    "try:\n",
    "    response = graph.invoke(\n",
    "        {\n",
    "            \"query\": user_input,\n",
    "            \"valid\": Valid_1(status=True, suggestion=\"No no\"),\n",
    "            # \"products_list\": context_data\n",
    "        },\n",
    "        {\"recursion_limit\": 10}  # Set recursion limit here\n",
    "    )\n",
    "except GraphRecursionError:\n",
    "    print(\"Recursion Error\")"
   ]
  },
  {
   "cell_type": "code",
   "execution_count": 75,
   "metadata": {},
   "outputs": [
    {
     "data": {
      "text/plain": [
       "{'Product': '90 degree elbow',\n",
       " 'Dimension': '3 inch',\n",
       " 'Enriched_Query': '3 inch schedule 10 316 stainless steel 90 degree short radius elbow'}"
      ]
     },
     "execution_count": 75,
     "metadata": {},
     "output_type": "execute_result"
    }
   ],
   "source": [
    "response['output_1']"
   ]
  },
  {
   "cell_type": "code",
   "execution_count": 76,
   "metadata": {},
   "outputs": [
    {
     "data": {
      "text/plain": [
       "{'status': False, 'suggestion': 'N/A'}"
      ]
     },
     "execution_count": 76,
     "metadata": {},
     "output_type": "execute_result"
    }
   ],
   "source": [
    "response['valid']"
   ]
  },
  {
   "cell_type": "code",
   "execution_count": 77,
   "metadata": {},
   "outputs": [
    {
     "data": {
      "text/plain": [
       "{'Numerical_Entities': ['3 inch', 'schedule 10', '90 degree'],\n",
       " 'Non_Numerical_Entities': ['316 stainless steel', 'short radius elbow']}"
      ]
     },
     "execution_count": 77,
     "metadata": {},
     "output_type": "execute_result"
    }
   ],
   "source": [
    "response['entities']"
   ]
  }
 ],
 "metadata": {
  "kernelspec": {
   "display_name": "base",
   "language": "python",
   "name": "python3"
  },
  "language_info": {
   "codemirror_mode": {
    "name": "ipython",
    "version": 3
   },
   "file_extension": ".py",
   "mimetype": "text/x-python",
   "name": "python",
   "nbconvert_exporter": "python",
   "pygments_lexer": "ipython3",
   "version": "3.12.4"
  }
 },
 "nbformat": 4,
 "nbformat_minor": 2
}
