{
 "cells": [
  {
   "cell_type": "code",
   "execution_count": 1,
   "metadata": {},
   "outputs": [],
   "source": [
    "import os\n",
    "\n",
    "openai_api_key=os.getenv(\"openai_api_key\")\n",
    "AZURE_OPENAI_DEPLOYMENT_NAME = os.getenv('deployment_name')\n",
    "AZURE_OPENAI_ENDPOINT = os.getenv(\"endpoint\")\n",
    "AZURE_OPENAI_API_VERSION = os.getenv(\"version\")"
   ]
  },
  {
   "cell_type": "code",
   "execution_count": 2,
   "metadata": {},
   "outputs": [
    {
     "name": "stderr",
     "output_type": "stream",
     "text": [
      "C:\\Users\\yash2\\AppData\\Local\\Temp\\ipykernel_7288\\3069890798.py:3: LangChainDeprecationWarning: The class `AzureChatOpenAI` was deprecated in LangChain 0.0.10 and will be removed in 1.0. An updated version of the class exists in the :class:`~langchain-openai package and should be used instead. To use it run `pip install -U :class:`~langchain-openai` and import as `from :class:`~langchain_openai import AzureChatOpenAI``.\n",
      "  llm= AzureChatOpenAI(\n",
      "d:\\Yash-Python\\Lib\\site-packages\\langchain_community\\chat_models\\azure_openai.py:174: UserWarning: As of openai>=1.0.0, Azure endpoints should be specified via the `azure_endpoint` param not `openai_api_base` (or alias `base_url`). Updating `openai_api_base` from https://soa-openai-sc.openai.azure.com/ to https://soa-openai-sc.openai.azure.com/openai.\n",
      "  warnings.warn(\n",
      "d:\\Yash-Python\\Lib\\site-packages\\langchain_community\\chat_models\\azure_openai.py:181: UserWarning: As of openai>=1.0.0, if `deployment_name` (or alias `azure_deployment`) is specified then `openai_api_base` (or alias `base_url`) should not be. Instead use `deployment_name` (or alias `azure_deployment`) and `azure_endpoint`.\n",
      "  warnings.warn(\n",
      "d:\\Yash-Python\\Lib\\site-packages\\langchain_community\\chat_models\\azure_openai.py:189: UserWarning: As of openai>=1.0.0, if `openai_api_base` (or alias `base_url`) is specified it is expected to be of the form https://example-resource.azure.openai.com/openai/deployments/example-deployment. Updating https://soa-openai-sc.openai.azure.com/ to https://soa-openai-sc.openai.azure.com/openai.\n",
      "  warnings.warn(\n"
     ]
    }
   ],
   "source": [
    "from langchain.chat_models import AzureChatOpenAI\n",
    "\n",
    "llm= AzureChatOpenAI(\n",
    "    deployment_name=AZURE_OPENAI_DEPLOYMENT_NAME,\n",
    "    openai_api_base=AZURE_OPENAI_ENDPOINT,\n",
    "    openai_api_key=openai_api_key,\n",
    "    openai_api_version=AZURE_OPENAI_API_VERSION\n",
    ")"
   ]
  },
  {
   "cell_type": "code",
   "execution_count": 3,
   "metadata": {},
   "outputs": [],
   "source": [
    "from langchain_core.tools import Tool\n",
    "from langchain_google_community import GoogleSearchAPIWrapper\n",
    "\n",
    "search = GoogleSearchAPIWrapper(\n",
    "    k=2\n",
    ")\n",
    "\n",
    "google_search = Tool(\n",
    "    name=\"google_search\",\n",
    "    func=search.run,\n",
    "    description=\"Search Engine\",\n",
    "    max_tokens=500\n",
    ")"
   ]
  },
  {
   "cell_type": "code",
   "execution_count": 4,
   "metadata": {},
   "outputs": [
    {
     "name": "stderr",
     "output_type": "stream",
     "text": [
      "C:\\Users\\yash2\\AppData\\Local\\Temp\\ipykernel_7288\\2622186525.py:25: PydanticDeprecatedSince20: Pydantic V1 style `@validator` validators are deprecated. You should migrate to Pydantic V2 style `@field_validator` validators, see the migration guide for more details. Deprecated in Pydantic V2.0 to be removed in V3.0. See Pydantic V2 Migration Guide at https://errors.pydantic.dev/2.8/migration/\n",
      "  @validator('Numerical_Entities', pre=True)\n"
     ]
    }
   ],
   "source": [
    "from typing import List, Dict, Optional\n",
    "from pydantic import BaseModel, Field, validator\n",
    "\n",
    "class Enrich(BaseModel):\n",
    "    Product: str = Field(description=\"Name/Type of the product in the query\", default=\"N/A\")\n",
    "    Dimension: str = Field(description=\"Dimension of product\", default=\"N/A\")\n",
    "    Enriched_Query: str = Field(description=\"Reformulate the user query into a well-defined and detailed format\", default=\"N/A\")\n",
    "\n",
    "class Valid_1(BaseModel):\n",
    "    status: bool = Field(description=\"Validation status either true/false\", default=False)\n",
    "    suggestion: str = Field(description=\"If status is True, provide detailed improvement suggestions. If status is False, write N/A\", default=\"N/A\")\n",
    "\n",
    "class MatchResult(BaseModel):\n",
    "    Product: bool = Field(description=\"Does product matched, true or false.\", default=False)\n",
    "    Dimension: bool = Field(description=\"Does dimension of product matched, true or false.\", default=False)\n",
    "    Numerical_Entities: Optional[List[str]] = Field(\n",
    "        description=\"list of the numerical entities\",\n",
    "        default_factory=list\n",
    "    )\n",
    "    Non_Numerical_Entities: Optional[List[str]] = Field(\n",
    "        description=\"list of non-numerical entities\",\n",
    "        default_factory=list\n",
    "    )\n",
    "\n",
    "    @validator('Numerical_Entities', pre=True)\n",
    "    def convert_numerical_to_str(cls, v):\n",
    "        if v is None:\n",
    "            return []\n",
    "        return [str(x) for x in v]\n",
    "\n",
    "class ProductDetails(BaseModel):\n",
    "    Product_id: str=Field(description=\"Product id\")\n",
    "    description: str=Field(description=\"Description of the product\")\n",
    "    Matching_Numerical_Entities: Optional[int] = Field(description=\"Number of Matching Numerical Entities\", default=0)\n",
    "    Matching_Non_Numerical_Entities: Optional[int] = Field(description=\"Number of matched non-numerical entities\", default=0)\n",
    "\n",
    "class Product(BaseModel):\n",
    "    Product_id: Optional[str]\n",
    "    Manufacturer_Part_No: Optional[str] = Field(alias=\"Manufacturer Part No. \")\n",
    "    description: Optional[str]\n",
    "    stock_type: Optional[int]\n",
    "    additional_information: Optional[Dict[str, str]]=Field(default_factory={})\n",
    "\n",
    "class State(BaseModel):\n",
    "    query: Optional[str]=Field(default=\" \")\n",
    "    context: Optional[str]=Field(default=\" \")\n",
    "    output_1: Optional[Enrich]=Field(default_factory=Enrich)\n",
    "    valid: Valid_1=Field(default_factory=Valid_1)"
   ]
  },
  {
   "cell_type": "code",
   "execution_count": 5,
   "metadata": {},
   "outputs": [
    {
     "data": {
      "text/plain": [
       "State(query=' ', context=' ', output_1=Enrich(Product='N/A', Dimension='N/A', Enriched_Query='N/A'), valid=Valid_1(status=False, suggestion='N/A'))"
      ]
     },
     "execution_count": 5,
     "metadata": {},
     "output_type": "execute_result"
    }
   ],
   "source": [
    "check=State()\n",
    "check"
   ]
  },
  {
   "cell_type": "code",
   "execution_count": 6,
   "metadata": {},
   "outputs": [],
   "source": [
    "def demo(state:State):\n",
    "    val=state.valid\n",
    "    return val"
   ]
  },
  {
   "cell_type": "code",
   "execution_count": 7,
   "metadata": {},
   "outputs": [],
   "source": [
    "# state=State()\n",
    "# print(demo(state))"
   ]
  },
  {
   "cell_type": "code",
   "execution_count": 8,
   "metadata": {},
   "outputs": [],
   "source": [
    "def google(state:State)->str:\n",
    "    return {\"context\":google_search.invoke(state.query)}"
   ]
  },
  {
   "cell_type": "code",
   "execution_count": 9,
   "metadata": {},
   "outputs": [],
   "source": [
    "from langchain_core.output_parsers import JsonOutputParser\n",
    "from langchain_core.prompts import PromptTemplate"
   ]
  },
  {
   "cell_type": "code",
   "execution_count": 10,
   "metadata": {},
   "outputs": [],
   "source": [
    "# google_search.invoke(\"2 in x 2 in x 3/4 in thrd tee C.S\")"
   ]
  },
  {
   "cell_type": "code",
   "execution_count": 11,
   "metadata": {},
   "outputs": [],
   "source": [
    "def query_enrich(state: State)->Dict[str,str]:\n",
    "    system_prompt = \"\"\"\n",
    "        You are given a product description along with some context. Your task is to extract relevant information and return it as a structured. It should include fields such as the product's quantity, name, and no additional details that can be inferred from the context.\n",
    "        Only give the output, no description is needed.\n",
    "        You are also provided with the possible changes that should be made while giving output.\n",
    "        \n",
    "        Query:{query}\n",
    "        Context:{context}\n",
    "        Suggestion:{suggest}\n",
    "\n",
    "        Output:\n",
    "        Product:(Name/Type of the product in the query),\n",
    "        Dimension:(Dimension of product),\n",
    "        Enriched_Query:(Reformulate the user query into a well-defined and detailed format by utilizing both the query and the provided context.),\n",
    "\n",
    "        MUST INCLUDE THESE THREE PARAMETERS IN OUTPUT.\n",
    "        In {format}\n",
    "        \"\"\"\n",
    "\n",
    "    parser = JsonOutputParser(pydantic_object=Enrich)\n",
    "\n",
    "    prompt = PromptTemplate(\n",
    "        template=system_prompt,\n",
    "        input_variables=[\"query\",\"context\",\"suggest\"],\n",
    "        partial_variables={\"format\": parser.get_format_instructions()},\n",
    "    )\n",
    "    chain = prompt | llm | parser\n",
    "\n",
    "    # Get the response as a Pydantic model\n",
    "    response = chain.invoke({\n",
    "        \"query\":state.query,\n",
    "        \"context\":state.context,\n",
    "        \"suggest\":state.valid.suggestion\n",
    "    })\n",
    "\n",
    "    return {\"output_1\": response}"
   ]
  },
  {
   "cell_type": "code",
   "execution_count": 12,
   "metadata": {},
   "outputs": [],
   "source": [
    "def valid_1(state: State)->Dict[str,str]:\n",
    "    system_prompt = \"\"\"\n",
    "        You are an expert Supervisor Model tasked with evaluating the quality of outputs generated by an AI agent. Your responsibilities include:\n",
    "        1. Checking if the output meets the specified expectations.\n",
    "        2. Providing actionable feedback if the output deviates from expectations.\n",
    "\n",
    "        ### Evaluation Criteria:\n",
    "        - **Status**:\n",
    "        - Mark `status` as **True** if the output does not meet the expectations, and provide improvement suggestions.\n",
    "        - Mark `status` as **False** if the output aligns with expectations, and write \"N/A\" in the `suggestion` field.\n",
    "\n",
    "        ### Expectations:\n",
    "        The output should:\n",
    "        1. Extract relevant information from the input query and context.\n",
    "        2. Return the information in a **structured format**, including the following fields:\n",
    "        - **Product**: The name or type of the product mentioned in the query.\n",
    "        - **Dimension**: The dimensions of the product, if provided in the context.\n",
    "        - **Enriched_Query**: A reformulated version of the user query that is well-defined, detailed, and utilizes both the query and context.\n",
    "        3. Avoid including additional or inferred details not explicitly mentioned in the query or context.\n",
    "\n",
    "        ### Input Details:\n",
    "        - **Query**: {query}\n",
    "        - **Context**: {context}\n",
    "\n",
    "        ### AI Agent's Output:\n",
    "        - **Output**: {output}\n",
    "\n",
    "        ### Required Output:\n",
    "        You must return:\n",
    "        status: (True/False) — Whether the output meets expectations.\n",
    "        suggestion: (If `status` is True, provide detailed improvement suggestions. If `status` is False, write \"N/A\".)\n",
    "\n",
    "        Format:{format}\n",
    "\"\"\"\n",
    "\n",
    "    parser = JsonOutputParser(pydantic_object=Valid_1)\n",
    "\n",
    "    prompt = PromptTemplate(\n",
    "        template=system_prompt,\n",
    "        input_variables=[\"query\",\"context\",\"output\"],\n",
    "        partial_variables={\"format\": parser.get_format_instructions()},\n",
    "    )\n",
    "    chain = prompt | llm | parser\n",
    "\n",
    "    # Get the response as a Pydantic model\n",
    "    response = chain.invoke({\n",
    "        \"query\":state.query,\n",
    "        \"context\":state.context,\n",
    "        \"output\":state.output_1\n",
    "    })   \n",
    "    # state.valid=response\n",
    "    return {\"valid\":response}\n"
   ]
  },
  {
   "cell_type": "code",
   "execution_count": 13,
   "metadata": {},
   "outputs": [],
   "source": [
    "def condition_1(state:State)->str:\n",
    "    if state.valid.status:\n",
    "        return \"repeat\"\n",
    "    return \"end\""
   ]
  },
  {
   "cell_type": "code",
   "execution_count": 14,
   "metadata": {},
   "outputs": [
    {
     "name": "stderr",
     "output_type": "stream",
     "text": [
      "d:\\Yash-Python\\Lib\\site-packages\\langgraph\\graph\\graph.py:36: LangChainDeprecationWarning: As of langchain-core 0.3.0, LangChain uses pydantic v2 internally. The langchain_core.pydantic_v1 module was a compatibility shim for pydantic v1, and should no longer be used. Please update the code to import from Pydantic directly.\n",
      "\n",
      "For example, replace imports like: `from langchain_core.pydantic_v1 import BaseModel`\n",
      "with: `from pydantic import BaseModel`\n",
      "or the v1 compatibility namespace if you are working in a code base that has not been fully upgraded to pydantic 2 yet. \tfrom pydantic.v1 import BaseModel\n",
      "\n",
      "  from langgraph.pregel import Channel, Pregel\n"
     ]
    }
   ],
   "source": [
    "from langgraph.graph import StateGraph, START, END\n",
    "\n",
    "graph_builder = StateGraph(State)\n",
    "\n",
    "graph_builder.add_node(\"search\", google)\n",
    "graph_builder.add_node(\"enrichment\", query_enrich)\n",
    "graph_builder.add_node(\"validator_1\", valid_1)\n",
    "graph_builder.add_edge(START, \"search\")\n",
    "graph_builder.add_edge(\"search\", \"enrichment\")\n",
    "graph_builder.add_edge(\"enrichment\",\"validator_1\")\n",
    "# graph_builder.add_edge(\"validator\",END)\n",
    "graph_builder.add_conditional_edges(\n",
    "    \"validator_1\",\n",
    "     condition_1, \n",
    "    {\n",
    "        \"repeat\": \"enrichment\",\n",
    "        \"end\": END\n",
    "    }\n",
    ")"
   ]
  },
  {
   "cell_type": "code",
   "execution_count": 15,
   "metadata": {},
   "outputs": [],
   "source": [
    "graph=graph_builder.compile()"
   ]
  },
  {
   "cell_type": "code",
   "execution_count": 16,
   "metadata": {},
   "outputs": [
    {
     "data": {
      "image/png": "[encoded data removed]",
      "text/plain": [
       "<IPython.core.display.Image object>"
      ]
     },
     "metadata": {},
     "output_type": "display_data"
    }
   ],
   "source": [
    "from IPython.display import Image, display\n",
    "\n",
    "try:\n",
    "    display(Image(graph.get_graph().draw_mermaid_png()))\n",
    "except Exception:\n",
    "\n",
    "    pass"
   ]
  },
  {
   "cell_type": "code",
   "execution_count": 17,
   "metadata": {},
   "outputs": [],
   "source": [
    "user_input=\"3 in(inch) schedule sch(schedule) 10 316 90s(90 short radius) 90 degree elbow\""
   ]
  },
  {
   "cell_type": "code",
   "execution_count": 18,
   "metadata": {},
   "outputs": [],
   "source": [
    "# user_input=\"Hello how are you!\""
   ]
  },
  {
   "cell_type": "code",
   "execution_count": 136,
   "metadata": {},
   "outputs": [],
   "source": [
    "response = graph.invoke({\n",
    "    \"query\": user_input,\n",
    "    \"valid\":Valid_1(status=True, suggestion=\"No no\")\n",
    "})"
   ]
  },
  {
   "cell_type": "code",
   "execution_count": 137,
   "metadata": {},
   "outputs": [
    {
     "data": {
      "text/plain": [
       "{'Product': '90 degree short radius elbow',\n",
       " 'Dimension': '3 inch, short radius',\n",
       " 'Enriched_Query': '3 inch schedule 10 316 90 degree short radius elbow, ANSI B16.9 Butt Weld'}"
      ]
     },
     "execution_count": 137,
     "metadata": {},
     "output_type": "execute_result"
    }
   ],
   "source": [
    "response['output_1']"
   ]
  },
  {
   "cell_type": "code",
   "execution_count": 138,
   "metadata": {},
   "outputs": [
    {
     "data": {
      "text/plain": [
       "{'status': False, 'suggestion': 'N/A'}"
      ]
     },
     "execution_count": 138,
     "metadata": {},
     "output_type": "execute_result"
    }
   ],
   "source": [
    "response['valid']"
   ]
  },
  {
   "cell_type": "code",
   "execution_count": null,
   "metadata": {},
   "outputs": [],
   "source": []
  }
 ],
 "metadata": {
  "kernelspec": {
   "display_name": "base",
   "language": "python",
   "name": "python3"
  },
  "language_info": {
   "codemirror_mode": {
    "name": "ipython",
    "version": 3
   },
   "file_extension": ".py",
   "mimetype": "text/x-python",
   "name": "python",
   "nbconvert_exporter": "python",
   "pygments_lexer": "ipython3",
   "version": "3.12.4"
  }
 },
 "nbformat": 4,
 "nbformat_minor": 2
}
