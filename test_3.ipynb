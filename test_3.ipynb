{
 "cells": [
  {
   "cell_type": "code",
   "execution_count": 1,
   "metadata": {},
   "outputs": [],
   "source": [
    "import os\n",
    "\n",
    "openai_api_key=os.getenv(\"openai_api_key\")\n",
    "AZURE_OPENAI_DEPLOYMENT_NAME = os.getenv('deployment_name')\n",
    "AZURE_OPENAI_ENDPOINT = os.getenv(\"endpoint\")\n",
    "AZURE_OPENAI_API_VERSION = os.getenv(\"version\")"
   ]
  },
  {
   "cell_type": "code",
   "execution_count": 2,
   "metadata": {},
   "outputs": [
    {
     "name": "stderr",
     "output_type": "stream",
     "text": [
      "C:\\Users\\yash2\\AppData\\Local\\Temp\\ipykernel_10332\\3069890798.py:3: LangChainDeprecationWarning: The class `AzureChatOpenAI` was deprecated in LangChain 0.0.10 and will be removed in 1.0. An updated version of the class exists in the :class:`~langchain-openai package and should be used instead. To use it run `pip install -U :class:`~langchain-openai` and import as `from :class:`~langchain_openai import AzureChatOpenAI``.\n",
      "  llm= AzureChatOpenAI(\n",
      "d:\\Yash-Python\\Lib\\site-packages\\langchain_community\\chat_models\\azure_openai.py:174: UserWarning: As of openai>=1.0.0, Azure endpoints should be specified via the `azure_endpoint` param not `openai_api_base` (or alias `base_url`). Updating `openai_api_base` from https://soa-openai-sc.openai.azure.com/ to https://soa-openai-sc.openai.azure.com/openai.\n",
      "  warnings.warn(\n",
      "d:\\Yash-Python\\Lib\\site-packages\\langchain_community\\chat_models\\azure_openai.py:181: UserWarning: As of openai>=1.0.0, if `deployment_name` (or alias `azure_deployment`) is specified then `openai_api_base` (or alias `base_url`) should not be. Instead use `deployment_name` (or alias `azure_deployment`) and `azure_endpoint`.\n",
      "  warnings.warn(\n",
      "d:\\Yash-Python\\Lib\\site-packages\\langchain_community\\chat_models\\azure_openai.py:189: UserWarning: As of openai>=1.0.0, if `openai_api_base` (or alias `base_url`) is specified it is expected to be of the form https://example-resource.azure.openai.com/openai/deployments/example-deployment. Updating https://soa-openai-sc.openai.azure.com/ to https://soa-openai-sc.openai.azure.com/openai.\n",
      "  warnings.warn(\n"
     ]
    }
   ],
   "source": [
    "from langchain.chat_models import AzureChatOpenAI\n",
    "\n",
    "llm= AzureChatOpenAI(\n",
    "    deployment_name=AZURE_OPENAI_DEPLOYMENT_NAME,\n",
    "    openai_api_base=AZURE_OPENAI_ENDPOINT,\n",
    "    openai_api_key=openai_api_key,\n",
    "    openai_api_version=AZURE_OPENAI_API_VERSION\n",
    ")"
   ]
  },
  {
   "cell_type": "code",
   "execution_count": 3,
   "metadata": {},
   "outputs": [],
   "source": [
    "from langchain_core.tools import Tool\n",
    "from langchain_google_community import GoogleSearchAPIWrapper\n",
    "\n",
    "search = GoogleSearchAPIWrapper(\n",
    "    k=2\n",
    ")\n",
    "\n",
    "google_search = Tool(\n",
    "    name=\"google_search\",\n",
    "    func=search.run,\n",
    "    description=\"Search Engine\",\n",
    "    max_tokens=100\n",
    ")"
   ]
  },
  {
   "cell_type": "code",
   "execution_count": 4,
   "metadata": {},
   "outputs": [],
   "source": [
    "from typing import List, Dict, Optional\n",
    "from pydantic import BaseModel, Field\n",
    "\n",
    "class Valid(BaseModel):\n",
    "    status: bool = Field(description=\"Validation status either true/false\", default=False)\n",
    "    suggestion: str = Field(description=\"If status is True, provide detailed improvement suggestions. If status is False, write N/A\", default=\"N/A\")\n",
    "\n",
    "class MatchResult(BaseModel):\n",
    "    Non_Negotiable: bool = Field(description=\"Does any of the non_negotiable entites matched, True or False.\", default=False)\n",
    "    Negotiable: bool = Field(description=\"Does any of the negotiable entites matched, True or False.\", default=False)\n",
    "\n",
    "class ProductDetails(BaseModel):\n",
    "    Product_id: str=Field(description=\"Product id\")\n",
    "    description: str=Field(description=\"Description of the product\")\n",
    "    Matching_Negotiable_Entities: Optional[int] = Field(description=\"Number of matching negotiable entities\", default=0)\n",
    "    Matching_Non_Negotiable_Entities: Optional[int] = Field(description=\"Number of matched non-negotiable entities\", default=0)\n",
    "\n",
    "class Product(BaseModel):\n",
    "    Product_id: Optional[str]\n",
    "    Manufacturer_Part_No: Optional[str] = Field(alias=\"Manufacturer Part No. \")\n",
    "    description: Optional[str]\n",
    "    stock_type: Optional[int]\n",
    "    additional_information: Optional[Dict[str, str]]=Field(default_factory={})\n",
    "\n",
    "class nego_nnego(BaseModel):\n",
    "    Negotiable_Entities: Optional[List[str]] = Field(description=\"list of the negotiable entities\",default_factory=list)\n",
    "    Non_Negotiable_Entities: Optional[List[str]] = Field(description=\"list of non-negotiable entities\",default_factory=list)\n",
    "\n",
    "class State(BaseModel):\n",
    "    query: Optional[str]=Field(default=\" \")\n",
    "    context: Optional[str]=Field(default=\" \")\n",
    "    Enriched_Query: Optional[str] = Field(description=\"Reformulate the user query into a well-defined and detailed format\", default=\"N/A\")\n",
    "    valid: Valid=Field(default_factory=Valid)\n",
    "    count:int=0\n",
    "    entities:Optional[nego_nnego]=Field(default_factory=nego_nnego)\n",
    "    products_list: List[Product]\n",
    "    t_n_f_list: Optional[List[MatchResult]]\n",
    "    output_2: Optional[List[ProductDetails]]=[]"
   ]
  },
  {
   "cell_type": "code",
   "execution_count": 7,
   "metadata": {},
   "outputs": [],
   "source": [
    "def google(state:State)->str:\n",
    "    return {\"context\":google_search.invoke(state.query)}"
   ]
  },
  {
   "cell_type": "code",
   "execution_count": 8,
   "metadata": {},
   "outputs": [],
   "source": [
    "from langchain_core.output_parsers import JsonOutputParser\n",
    "from langchain_core.prompts import PromptTemplate, ChatPromptTemplate"
   ]
  },
  {
   "cell_type": "code",
   "execution_count": 9,
   "metadata": {},
   "outputs": [],
   "source": [
    "# google_search.invoke(\"2 in x 2 in x 3/4 in thrd tee C.S\")"
   ]
  },
  {
   "cell_type": "code",
   "execution_count": 10,
   "metadata": {},
   "outputs": [],
   "source": [
    "def query_enrich_1(val):\n",
    "    system_prompt = \"\"\"\n",
    "    You are given a user query along with additional context. Your task is to enrich and reformulate the query into a more detailed and well-structured format.\n",
    "\n",
    "    **Instructions**:\n",
    "    - Provide only the enriched query as output, with no extra information or explanations.\n",
    "    - Use the **user query**, **context**, and any **suggested changes** to expand abbreviations, use full forms, or improve the sentence structure.\n",
    "    - Do not add any new information that is not present in the **User Query**.\n",
    "    - Do not introduce any inferred or additional details from the context. Only consider context for resolving abbreviations or making the query more readable.\n",
    "\n",
    "    **Input**:\n",
    "    - Query: {query}\n",
    "    - Context: {context}\n",
    "    - Suggestion: {suggest}\n",
    "\n",
    "    **Output**:\n",
    "    (Enriched Query)\n",
    "\n",
    "    **Example**:\n",
    "    User query: 10 2-2-3/4 threaded tee C.S \n",
    "    Output: 10 quantities of 2-inch by 2-inch by 3/4-inch threaded tee fitting made of carbon steel (C.S.)\n",
    "\n",
    "    Do not introduce any information not present in the **User Query**.\n",
    "\"\"\"\n",
    "\n",
    "\n",
    "    prompt = PromptTemplate(\n",
    "        template=system_prompt,\n",
    "        input_variables=[\"query\",\"context\",\"suggest\"],\n",
    "    )\n",
    "    chain = prompt | llm\n",
    "\n",
    "    # Get the response as a Pydantic model\n",
    "    response = chain.invoke({\n",
    "        \"query\":val,\n",
    "        \"context\":google_search.invoke(val),\n",
    "        \"suggest\":\"N/A\"\n",
    "    })\n",
    "    return response.content"
   ]
  },
  {
   "cell_type": "code",
   "execution_count": 11,
   "metadata": {},
   "outputs": [],
   "source": [
    "# user_input=\"3 in sch 10 316 90s 90 degree elbow\"\n",
    "# print(query_enrich_1(user_input))"
   ]
  },
  {
   "cell_type": "code",
   "execution_count": 12,
   "metadata": {},
   "outputs": [],
   "source": [
    "def query_enrich(state: State)->Dict[str,str]:\n",
    "    system_prompt = \"\"\"\n",
    "    You are given a user query along with additional context. Your task is to enrich and reformulate the query into a more detailed and well-structured format.\n",
    "\n",
    "    **Instructions**:\n",
    "    - Provide only the enriched query as output, with no extra information or explanations.\n",
    "    - Use the **user query**, **context**, and any **suggested changes** to expand abbreviations, use full forms, or improve the sentence structure.\n",
    "    - Do not add any new information that is not present in the **User Query**.\n",
    "    - Do not introduce any inferred or additional details from the context. Only consider context for resolving abbreviations or making the query more readable.\n",
    "\n",
    "    **Input**:\n",
    "    - Query: {query}\n",
    "    - Context: {context}\n",
    "    - Suggestion: {suggest}\n",
    "\n",
    "    **Output**:\n",
    "    (Enriched Query)\n",
    "\n",
    "    **Example**:\n",
    "    User query: 10 2-2-3/4 threaded tee C.S \n",
    "    Output: 10 quantities of 2-inch by 2-inch by 3/4-inch threaded tee fitting made of carbon steel (C.S.)\n",
    "\n",
    "    Do not introduce any information not present in the **User Query**.\n",
    "\"\"\"\n",
    "\n",
    "\n",
    "\n",
    "    prompt = PromptTemplate(\n",
    "        template=system_prompt,\n",
    "        input_variables=[\"query\",\"context\",\"suggest\"],\n",
    "    )\n",
    "    chain = prompt | llm\n",
    "\n",
    "    # Get the response as a Pydantic model\n",
    "    response = chain.invoke({\n",
    "        \"query\":state.query,\n",
    "        \"context\":state.context,\n",
    "        \"suggest\":state.valid.suggestion\n",
    "    }).content\n",
    "    return {\"Enriched_Query\":response}"
   ]
  },
  {
   "cell_type": "code",
   "execution_count": 13,
   "metadata": {},
   "outputs": [],
   "source": [
    "def valid_1(state: State)->Dict[str,str]:\n",
    "    system_prompt = \"\"\"\n",
    "        You are an expert Supervisor Model tasked with evaluating the quality of outputs generated by an AI agent. Your responsibilities include:\n",
    "        1. Checking if the output meets the specified expectations.\n",
    "        2. Providing actionable feedback if the output deviates from expectations.\n",
    "\n",
    "        ### Evaluation Criteria:\n",
    "        - **Status**:\n",
    "        - Mark `status` as **True** if the output does not meet the expectations, and give the example of final output according to you, No explanation.\n",
    "        - Mark `status` as **False** if the output aligns with expectations, and write \"N/A\" in the `suggestion` field.\n",
    "\n",
    "        ### Expectations:\n",
    "        The output should:\n",
    "        1. Extract relevant information from the input query and context.\n",
    "        2. Return the information in a **structured format**, including the following fields:\n",
    "        - **Product**: The name or type of the product mentioned in the query.\n",
    "        - **Dimension**: The dimensions of the product, if provided in the context.\n",
    "        - **Enriched_Query**: A reformulated version of the user query that is well-defined, detailed, and utilizes both the query and context.\n",
    "        3. Avoid including additional or inferred details not explicitly mentioned in the query or context.\n",
    "\n",
    "        ### Input Details:\n",
    "        - **Query**: {query}\n",
    "        - **Context**: {context}\n",
    "\n",
    "        ### AI Agent's Output:\n",
    "        - **Output**: {output}\n",
    "\n",
    "        ### Required Output:\n",
    "        You must return:\n",
    "        status: (True/False) — Whether the output meets expectations.\n",
    "        suggestion: (If `status` is True, give the final output according to you in form of string, No explanation. If `status` is False, write \"N/A\".)\n",
    "\n",
    "        Format:{format}\n",
    "\"\"\"\n",
    "\n",
    "    parser = JsonOutputParser(pydantic_object=Valid)\n",
    "\n",
    "    prompt = PromptTemplate(\n",
    "        template=system_prompt,\n",
    "        input_variables=[\"query\",\"context\",\"output\"],\n",
    "        partial_variables={\"format\": parser.get_format_instructions()},\n",
    "    )\n",
    "    chain = prompt | llm | parser\n",
    "\n",
    "    # Get the response as a Pydantic model\n",
    "    response = chain.invoke({\n",
    "        \"query\":state.query,\n",
    "        \"context\":state.context,\n",
    "        \"output\":state.Enriched_Query\n",
    "    })\n",
    "    if state.count==2:\n",
    "        response['status']=False\n",
    "        response['suggestion']=\"N/A\"\n",
    "\n",
    "    if response['status'] and state.count<2:\n",
    "        state.count=state.count+1\n",
    "    else:\n",
    "        state.count=0  \n",
    "    # state.valid=response\n",
    "    return {\n",
    "        \"valid\":response,\n",
    "        \"count\":state.count\n",
    "            }\n"
   ]
  },
  {
   "cell_type": "code",
   "execution_count": 14,
   "metadata": {},
   "outputs": [],
   "source": [
    "def condition_1(state:State)->str:\n",
    "    if state.valid.status and state.count<=2:\n",
    "        return \"repeat\"\n",
    "    return \"next\""
   ]
  },
  {
   "cell_type": "code",
   "execution_count": 15,
   "metadata": {},
   "outputs": [],
   "source": [
    "def entity(state:State)->Dict[str,str]:\n",
    "    system_prompt = \"\"\"\n",
    "        You are an expert data analyzer. Your task is to extract and classify entities from a given query into two categories: **Negotiable entities** and **non-Negotiable entities**.You can also refer to suggestion provided by the validator to give the similar output. Provide the results strictly in the following format below:\n",
    "        Give only top 2 most important Non-negotiable entities.\n",
    "\n",
    "        General list of Negotiable entities:\n",
    "            - Standards or grades (e.g., 10)\n",
    "            - Variants or options (e.g., short radius)\n",
    "            - Additional descriptors (e.g., insert)\n",
    "\n",
    "            General list of non-Negotiable entities:\n",
    "            - Size (e.g., 3 in, 3/8 - 16)\n",
    "            - Material (e.g., 316, nylon)\n",
    "            - Component type (e.g., elbow, locknut)\n",
    "            - Specification (e.g., schedule sch, 90s)\n",
    "            - Angle or shape (e.g., 90 degree) \n",
    "        \n",
    "        Go through the suggestion provided by the validator, and give the output according to it.\n",
    "        Input Query: \n",
    "        Original user query:{query}\n",
    "        Enriched user query:{enrich_query}\n",
    "        Suggestion:{suggest}\n",
    "\n",
    "        Output:\n",
    "        Negotiable_Entities: list of Negotiable entities present in the Input (Use N/A if not found)\n",
    "        Non_Negotiable_Entities: list of unique non-Negotiable entities present in the Input(Use N/A if not found)\n",
    "\n",
    "        ### Example:\n",
    "\n",
    "        Input Query: \n",
    "        Original user query: 10 2-2-3/4 threaded tee C.S \n",
    "        Enriched user query: 10 quantities of 2-inch by 2-inch by 3/4-inch threaded tee fitting made of carbon steel (C.S.)\n",
    "\n",
    "        Output:\n",
    "        Negotiable_Entities: [10, 2-inch by 2-inch by 3/4-inch],\n",
    "        Non_Negotiable_Entities: [\"threaded tee fitting\", \"carbon steel\"]\n",
    "\n",
    "        ONLY GIVE OUTPUT. DO NOT INCLUDE EXTRA INFORMATION, SYMBOLS, OR TEXT.\n",
    "        {format}\n",
    "    \"\"\"\n",
    "    parser=JsonOutputParser(pydantic_object=nego_nnego)\n",
    "    prompt=PromptTemplate(\n",
    "        template=system_prompt,\n",
    "        input_variables=[\"query\",\"enrich_query\",\"suggest\"],\n",
    "        partial_variables={\"format\":parser.get_format_instructions()}\n",
    "    )\n",
    "\n",
    "    chain=prompt | llm | parser\n",
    "\n",
    "    response=chain.invoke({\n",
    "        \"query\":state.query,\n",
    "        \"enrich_query\":state.Enriched_Query,\n",
    "        \"suggest\":state.valid.suggestion\n",
    "    })\n",
    "\n",
    "\n",
    "    return {\"entities\":response}"
   ]
  },
  {
   "cell_type": "code",
   "execution_count": 16,
   "metadata": {},
   "outputs": [],
   "source": [
    "def valid_2(state:State)->Dict[str,str]:\n",
    "    system_prompt = \"\"\"\n",
    "        You are a Supervisor Model evaluating the quality of an AI agent's output. Your tasks are to:\n",
    "        1. Verify if the output meets expectations.\n",
    "        2. Provide actionable feedback if it deviates from expectations.\n",
    "\n",
    "        ### Evaluation Criteria:\n",
    "        **Status**: \n",
    "        - Set to **True** if the output does not meet expectations, and give the example of final output according to you, No explanation.\n",
    "        - Set to **False** if the output meets expectations, and write \"N/A\" in `suggestion`.\n",
    "        - For Non-negotiable give only top 2 most important entities.\n",
    "\n",
    "        ### Expectations:\n",
    "            General list of Negotiable entities:\n",
    "            - Standards or grades (e.g., 10)\n",
    "            - Variants or options (e.g., short radius)\n",
    "            - Additional descriptors (e.g., insert)\n",
    "\n",
    "            General list of non-Negotiable entities:\n",
    "            - Size (e.g., 3 in, 3/8 - 16)\n",
    "            - Material (e.g., 316, nylon)\n",
    "            - Component type (e.g., elbow, locknut)\n",
    "            - Specification (e.g., schedule sch, 90s)\n",
    "            - Angle or shape (e.g., 90 degree)\n",
    "\n",
    "        ### Inputs:\n",
    "        - **User Query**: {query}\n",
    "        - **Enriched Query**: {context}\n",
    "        - **AI Output**: {output}\n",
    "\n",
    "        ### Required Output:\n",
    "        - `status`: True (if the output deviates) or False (if it meets expectations).\n",
    "        - `suggestion`: Give the final output according to you in form of string, if `status` is True; \"N/A\" if `status` is False.\n",
    "\n",
    "        Output Format: {format}\n",
    "\"\"\"\n",
    "\n",
    "    parser = JsonOutputParser(pydantic_object=Valid)\n",
    "\n",
    "    prompt = PromptTemplate(\n",
    "        template=system_prompt,\n",
    "        input_variables=[\"query\",\"context\",\"output\"],\n",
    "        partial_variables={\"format\": parser.get_format_instructions()},\n",
    "    )\n",
    "    chain = prompt | llm | parser\n",
    "\n",
    "    # Get the response as a Pydantic model\n",
    "    response = chain.invoke({\n",
    "        \"query\":state.query,\n",
    "        \"context\":state.Enriched_Query,\n",
    "        \"output\":state.entities\n",
    "    })\n",
    "    if state.count==2:\n",
    "        response['status']=False\n",
    "        response['suggestion']=\"N/A\"\n",
    "\n",
    "    if response['status'] and state.count<2:\n",
    "        state.count=state.count+1\n",
    "    else:\n",
    "        state.count=0\n",
    "\n",
    "    return {\n",
    "        \"valid\":response,\n",
    "        \"count\":state.count\n",
    "            }"
   ]
  },
  {
   "cell_type": "code",
   "execution_count": 17,
   "metadata": {},
   "outputs": [],
   "source": [
    "def t_n_f(state:State)->Dict[str,str]:\n",
    "    system_prompt = \"\"\"\n",
    "    You are an expert at evaluating negotiable and non-negotiable entities in user queries. Given a **user query**, identify and classify the entities as negotiable or non-negotiable. For each entity, determine if it matches the inventory criteria provided.\n",
    "\n",
    "    The evaluation rules are as follows:\n",
    "    1) Non-negotiable entities (e.g., size, dimensions, material, component type) must exactly match the provided inventory details. If they match, mark them as true; otherwise, mark them as false.\n",
    "    2) Negotiable entities (e.g., quantity, variants, finish, coating) are flexible. If they align contextually or partially with inventory details, mark them as true; otherwise, mark them as false.\n",
    "\n",
    "    **User Query:**\n",
    "    Negotiable Entites:{Negotiable}\n",
    "    Non Negotiable Entites: {Non_Negotiable}\n",
    "    Enriched Query: {query}\n",
    "\n",
    "    **Inventory Details:**\n",
    "    {inventory}\n",
    "\n",
    "    Suggestion for desired output:{suggest}\n",
    "\n",
    "    **Expected Output Format:**\n",
    "    Non_Negotiable: True/False\n",
    "    Negotiable: True/False\n",
    "    ...\n",
    "\n",
    "    ONLY GIVE OUTPUT IN THE SPECIFIED FORMAT. NO EXTRA INFORMATION, SYMBOLS, TOKENS, OR TEXT.\n",
    "    In {format}\n",
    "\"\"\"\n",
    "    parser=JsonOutputParser(pydantic_object=MatchResult)\n",
    "\n",
    "    prompt=PromptTemplate(\n",
    "        template=system_prompt,\n",
    "        input_variables=[\"Negotiable\",\"Non_Negotiable\",\"query\",\"inventory\",\"suggest\"],\n",
    "        partial_variables={\"format\":parser.get_format_instructions()}\n",
    "    )\n",
    "    chain = prompt | llm | parser\n",
    "    # if state.count==2:\n",
    "    #     state.valid.status=False\n",
    "    #     state.valid.suggestion=\"N/A\"\n",
    "\n",
    "    response=chain.invoke({\n",
    "        \"Negotiable\":state.entities.Negotiable_Entities,\n",
    "        \"Non_Negotiable\":state.entities.Non_Negotiable_Entities,\n",
    "        \"query\":state.Enriched_Query,\n",
    "        \"inventory\":state.products_list[len(state.t_n_f_list)],\n",
    "        \"suggest\":state.valid.suggestion\n",
    "    })\n",
    "    # if state.valid.status:\n",
    "    #     state.t_n_f_list[len(state.t_n_f_list)-1]=response\n",
    "    # else:\n",
    "    state.t_n_f_list.append(response)\n",
    "    # if state.valid.status and state.count<2:\n",
    "    #     state.count=state.count+1\n",
    "    # else:\n",
    "    #     state.count=0\n",
    "    return {\n",
    "        \"t_n_f_list\":state.t_n_f_list\n",
    "        # \"count\":state.count,\n",
    "        # \"valid\":state.valid\n",
    "        }\n"
   ]
  },
  {
   "cell_type": "code",
   "execution_count": 20,
   "metadata": {},
   "outputs": [],
   "source": [
    "def valid_3(state:State)-> Dict[str,str]:\n",
    "    system_prompt = \"\"\"\n",
    "        You are a validation expert. Your task is to evaluate the correctness of the AI-agent's response based on specific criteria.\n",
    "\n",
    "        ### Validation Criteria:\n",
    "        1. **Non-Negotiable Entities Check**: Verify if non-negotiable entities in the user query (e.g., dimensions, material, component type) **exactly match** the corresponding details in the inventory, maintaining the same order and format.  \n",
    "        - Mark `status` as `False` if they **do match**, otherwise `True`.  \n",
    "\n",
    "        2. **Negotiable Entities Check**: Assess if negotiable entities in the user query (e.g., quantity, variants, finish, coating) align **contextually** or **partially** with the inventory.  \n",
    "        - Mark `status` as `False` if they **do align**, otherwise `True`.  \n",
    "\n",
    "        ### Input Information:\n",
    "        - **User Input**:\n",
    "        -  {query}\n",
    "        - **Inventory Product Details**:\n",
    "        - {inventory}\n",
    "        - **AI-Agent Response**:\n",
    "        - {t_n_f}\n",
    "\n",
    "        ### Output Requirements:\n",
    "        - **status**: \n",
    "        - `False` if all checks meet expectations.\n",
    "        - `True` if any check deviates from expectations.\n",
    "        - **suggestion**:\n",
    "        - If `status` is `True`: give the final output according to you in form of string, No explanation.\n",
    "        - If `status` is `False`: Return `\"N/A\"`.\n",
    "\n",
    "        ### Format:\n",
    "        {format}\n",
    "    \"\"\"\n",
    "    parser=JsonOutputParser(pydantic_object=Valid)\n",
    "    prompts=PromptTemplate(\n",
    "        template=system_prompt,\n",
    "        input_variables=[\"query\",\"inventory\",\"t_n_f\"],\n",
    "        partial_variables={\"format\":parser.get_format_instructions()}\n",
    "    )\n",
    "\n",
    "    chain= prompts | llm | parser\n",
    "    response=chain.invoke({\n",
    "        \"query\":state.Enriched_Query,\n",
    "        \"inventory\":state.products_list[len(state.t_n_f_list)-1],\n",
    "        \"t_n_f\":state.t_n_f_list[-1]\n",
    "    })\n",
    "    \n",
    "    if state.count==2:\n",
    "        response['status']=False\n",
    "        response['suggestion']=\"N/A\"\n",
    "    elif response['status']==True:\n",
    "        state.t_n_f_list.pop()\n",
    "\n",
    "    if response['status'] and state.count<2:\n",
    "        state.count=state.count+1\n",
    "    else:\n",
    "        state.count=0\n",
    "    \n",
    "    return {\n",
    "        \"valid\":response,\n",
    "        \"t_n_f_list\":state.t_n_f_list,\n",
    "        \"count\":state.count\n",
    "            }\n"
   ]
  },
  {
   "cell_type": "code",
   "execution_count": 21,
   "metadata": {},
   "outputs": [],
   "source": [
    "def condition_2(state:State)->str:\n",
    "    if (state.valid.status and state.count<=2)or(len(state.t_n_f_list)<len(state.products_list)):\n",
    "        return \"repeat\"\n",
    "    return \"next\""
   ]
  },
  {
   "cell_type": "code",
   "execution_count": 22,
   "metadata": {},
   "outputs": [],
   "source": [
    "def filter(state: State)-> List[Dict[str,str]]:\n",
    "    system_prompt=\"\"\"\n",
    "        You are an expert product matcher. Your task is to compare the Negotiable entities of a product with its description and count the number of Negotiable entities that seems similar between them. Provide the exact count as an integer. \n",
    "\n",
    "        General list of Negotiable entities:\n",
    "            - Standards or grades (e.g., 10)\n",
    "            - Variants or options (e.g., short radius)\n",
    "            - Additional descriptors (e.g., insert) \n",
    "\n",
    "        ### Input Format:\n",
    "\n",
    "        Negotiable Entities: {Negotiable_entities}\n",
    "        Product Description: {description}\n",
    "\n",
    "        ### Output Format:\n",
    "        (number,0 if not matched)\n",
    "\n",
    "        ### Example:\n",
    "\n",
    "        Negotiable Entities: [\"10 quantites\"]  \n",
    "        Product Description: \"10 quantities of a 2-inch by 2-inch by 3/4-inch threaded tee fitting.\"\n",
    "\n",
    "        Output:\n",
    "        2  \n",
    "\n",
    "        ONLY GIVE OUTPUT IN THE SINGLE INTEGER, NO EXTRA INFORMATION, SYMBOLS, TOKEN OR ANY OTHER TEXT IS NECESSARY\n",
    "\"\"\"\n",
    "    system_prompt_1=\"\"\"\n",
    "        You are an expert product matcher. Your task is to compare the non-Negotiable entities of a product with its description and count the number of Negotiable entities that seems similar between them. Provide the exact count as an integer. \n",
    "\n",
    "        General list of non-Negotiable entities:\n",
    "            - Size (e.g., 3 in, 3/8 - 16)\n",
    "            - Material (e.g., 316, nylon)\n",
    "            - Component type (e.g., elbow, locknut)\n",
    "            - Specification (e.g., schedule sch, 90s)\n",
    "            - Angle or shape (e.g., 90 degree)\n",
    "        \n",
    "        ### Input Format:\n",
    "\n",
    "        Negotiable Entities: {non_negotiable_entities}\n",
    "        Product Description: {description}\n",
    "\n",
    "        ### Output:\n",
    "        (number)\n",
    "\n",
    "        ### Example:\n",
    "\n",
    "        Non_Negotiable Entities: \"threaded tee fitting\", \"carbon steel (C.S.)\"\n",
    "        Product Description: \"10 quantities of a 2-inch by 2-inch by 3/4-inch threaded tee fitting.\"\n",
    "\n",
    "        Output:\n",
    "        1   \n",
    "\n",
    "        ONLY GIVE OUTPUT IN THE SINGLE INTEGER, NO EXTRA INFORMATION, SYMBOLS, TOKEN OR ANY OTHER TEXT IS NECESSARY\n",
    "    \"\"\"\n",
    "    template=ChatPromptTemplate.from_messages({\n",
    "        (\"system\",system_prompt)\n",
    "    })\n",
    "    template_1=ChatPromptTemplate.from_messages({\n",
    "        (\"system\",system_prompt_1)\n",
    "    })\n",
    "    temp = []\n",
    "    parser=JsonOutputParser(pydantic_object=ProductDetails)\n",
    "\n",
    "    for i in range(len(state.t_n_f_list)):\n",
    "        # Ensure that each item in t_n_f_list is a dictionary\n",
    "        current_dict = state.t_n_f_list[i]\n",
    "        if current_dict.Negotiable or current_dict.Non_Negotiable:\n",
    "            prompt_value=template.invoke(\n",
    "                {\n",
    "                    \"Negotiable_entities\":state.entities.Negotiable_Entities,\n",
    "                    \"description\":state.products_list[i].description\n",
    "                }\n",
    "            )\n",
    "            num=llm.invoke(prompt_value).content\n",
    "            prompt_value_1=template_1.invoke(\n",
    "                {\n",
    "                    \"non_negotiable_entities\":state.entities.Non_Negotiable_Entities,\n",
    "                    \"description\":state.products_list[i].description\n",
    "                }\n",
    "            )\n",
    "            non_num=llm.invoke(prompt_value_1).content\n",
    "            prompt=PromptTemplate(\n",
    "                template=\"\"\"\n",
    "                            Product id: {id},\n",
    "                            description:{desp},\n",
    "                            number of Negotiable entities:{nm},\n",
    "                            number of non-Negotiable entites:{n_num},\n",
    "                            In format: {format}\n",
    "                        \"\"\",\n",
    "                input_variables=[\"id\",\"desp\",\"nm\",\"n_num\"],\n",
    "                partial_variables={\"format\":parser.get_format_instructions()}\n",
    "            )\n",
    "            chain=prompt | llm | parser\n",
    "            \n",
    "            updated_product = chain.invoke({\n",
    "                \"id\":state.products_list[i].Product_id,\n",
    "                \"desp\":state.products_list[i].description,\n",
    "                \"nm\":num,\n",
    "                \"n_num\":non_num\n",
    "            })\n",
    "            temp.append(updated_product)\n",
    "    return {'output_2': temp}"
   ]
  },
  {
   "cell_type": "code",
   "execution_count": 23,
   "metadata": {},
   "outputs": [
    {
     "name": "stderr",
     "output_type": "stream",
     "text": [
      "d:\\Yash-Python\\Lib\\site-packages\\langgraph\\graph\\graph.py:36: LangChainDeprecationWarning: As of langchain-core 0.3.0, LangChain uses pydantic v2 internally. The langchain_core.pydantic_v1 module was a compatibility shim for pydantic v1, and should no longer be used. Please update the code to import from Pydantic directly.\n",
      "\n",
      "For example, replace imports like: `from langchain_core.pydantic_v1 import BaseModel`\n",
      "with: `from pydantic import BaseModel`\n",
      "or the v1 compatibility namespace if you are working in a code base that has not been fully upgraded to pydantic 2 yet. \tfrom pydantic.v1 import BaseModel\n",
      "\n",
      "  from langgraph.pregel import Channel, Pregel\n"
     ]
    }
   ],
   "source": [
    "from langgraph.graph import StateGraph, START, END\n",
    "\n",
    "graph_builder = StateGraph(State)\n",
    "\n",
    "graph_builder.add_node(\"search\", google)\n",
    "graph_builder.add_node(\"enrichment\", query_enrich)\n",
    "graph_builder.add_node(\"validator_1\", valid_1)\n",
    "graph_builder.add_node(\"entity\",entity)\n",
    "graph_builder.add_node(\"validator_2\",valid_2)\n",
    "graph_builder.add_node(\"t_n_f\",t_n_f)\n",
    "graph_builder.add_node(\"validator_3\",valid_3)\n",
    "graph_builder.add_node(\"filter\",filter)\n",
    "graph_builder.add_edge(START, \"search\")\n",
    "graph_builder.add_edge(\"search\", \"enrichment\")\n",
    "graph_builder.add_edge(\"enrichment\",\"validator_1\")\n",
    "graph_builder.add_conditional_edges(\n",
    "    \"validator_1\",\n",
    "     condition_1, \n",
    "    {\n",
    "        \"repeat\": \"enrichment\",\n",
    "        \"next\": \"entity\"\n",
    "    }\n",
    ")\n",
    "graph_builder.add_edge(\"entity\",\"validator_2\")\n",
    "graph_builder.add_conditional_edges(\n",
    "    \"validator_2\",\n",
    "     condition_1, \n",
    "    {\n",
    "        \"repeat\": \"entity\",\n",
    "        \"next\": \"t_n_f\"\n",
    "    }\n",
    ")\n",
    "graph_builder.add_edge(\"t_n_f\",\"validator_3\")\n",
    "# graph_builder.add_edge(\"validator_3\",END)\n",
    "graph_builder.add_conditional_edges(\n",
    "    \"validator_3\",\n",
    "    condition_2,\n",
    "    {\n",
    "        \"repeat\":\"t_n_f\",\n",
    "        \"next\":\"filter\"\n",
    "    }\n",
    ")\n",
    "graph_builder.add_edge(\"filter\",END)"
   ]
  },
  {
   "cell_type": "code",
   "execution_count": 24,
   "metadata": {},
   "outputs": [],
   "source": [
    "graph=graph_builder.compile()"
   ]
  },
  {
   "cell_type": "code",
   "execution_count": 25,
   "metadata": {},
   "outputs": [
    {
     "data": {
      "image/png": "[encoded data removed]",
      "text/plain": [
       "<IPython.core.display.Image object>"
      ]
     },
     "metadata": {},
     "output_type": "display_data"
    }
   ],
   "source": [
    "from IPython.display import Image, display\n",
    "\n",
    "try:\n",
    "    display(Image(graph.get_graph().draw_mermaid_png()))\n",
    "except Exception:\n",
    "    pass"
   ]
  },
  {
   "cell_type": "code",
   "execution_count": 26,
   "metadata": {},
   "outputs": [],
   "source": [
    "user_input=\"3 in(inch) schedule sch(schedule) 10 316 90s(90 short radius) 90 degree elbow\""
   ]
  },
  {
   "cell_type": "code",
   "execution_count": 27,
   "metadata": {},
   "outputs": [],
   "source": [
    "# user_input=\"Hello how are you!\""
   ]
  },
  {
   "cell_type": "code",
   "execution_count": 39,
   "metadata": {},
   "outputs": [],
   "source": [
    "context_data=[\n",
    "    {\n",
    "        \"Product_id\": \"es8037c\",\n",
    "        \"Manufacturer Part No. \": \"828150\",\n",
    "        \"description\": \"lock nut measurement system imperial 3/8 in-16 diameter - thread steel/nylon insert 8 grade 16 nylon\",\n",
    "        \"stock_type\": 1,\n",
    "        \"additional_information\": {}\n",
    "    },\n",
    "    {\n",
    "        \"Product_id\": \"es8037cy\",\n",
    "        \"Manufacturer Part No. \": \"845200\",\n",
    "        \"description\": \"lock nut measurement system imperial 3/8 in-16 diameter - thread steel/nylon insert zinc plated 8 grade yellow 16 nylon\",\n",
    "        \"stock_type\": 1,\n",
    "        \"additional_information\": {}\n",
    "    },\n",
    "    {\n",
    "        \"Product_id\": \"es8037cy/ez\",\n",
    "        \"Manufacturer Part No. \": \"759032\",\n",
    "        \"description\": \"lock nut measurement system imperial 3/8 in-16 diameter - thread nylon insert zinc plated 8 grade yellow 16\",\n",
    "        \"stock_type\": 1,\n",
    "        \"additional_information\": {}\n",
    "    },\n",
    "    {\n",
    "        \"Product_id\": \"eshn037cz\",\n",
    "        \"Manufacturer Part No. \": \"37cnnhz\",\n",
    "        \"description\": \"lock nut measurement system imperial 3/8 in-16 diameter - thread nylon insert zinc plated heavy 16\",\n",
    "        \"stock_type\": 1,\n",
    "        \"additional_information\": {}\n",
    "    }]"
   ]
  },
  {
   "cell_type": "code",
   "execution_count": 40,
   "metadata": {},
   "outputs": [],
   "source": [
    "# context_data=[\n",
    "#     {\n",
    "#         \"Product_id\": \"es8037c\",\n",
    "#         \"Manufacturer Part No. \": \"828150\",\n",
    "#         \"description\": \"lock nut measurement system imperial 3/8 in-16 diameter - thread steel/nylon insert 8 grade 16 nylon\",\n",
    "#         \"stock_type\": 1,\n",
    "#         \"additional_information\": {}\n",
    "#     }]"
   ]
  },
  {
   "cell_type": "code",
   "execution_count": 41,
   "metadata": {},
   "outputs": [],
   "source": [
    "# import json\n",
    "# with open('context_data_3.json', 'r') as f:\n",
    "#     context_data = json.load(f)"
   ]
  },
  {
   "cell_type": "code",
   "execution_count": 42,
   "metadata": {},
   "outputs": [],
   "source": [
    "from langgraph.errors import GraphRecursionError\n",
    "\n",
    "try:\n",
    "    response = graph.invoke(\n",
    "            {\n",
    "                \"query\": user_input,\n",
    "                \"valid\": Valid(status=True, suggestion=\"No no\"),\n",
    "                \"Enriched_Query\":\"\",\n",
    "                \"count\":0,\n",
    "                \"products_list\": context_data,\n",
    "                \"t_n_f_list\":[]\n",
    "            }, {\"recursion_limit\": 10000}\n",
    "        )\n",
    "except GraphRecursionError:\n",
    "    print(\"Recursion Error\")\n"
   ]
  },
  {
   "cell_type": "code",
   "execution_count": 43,
   "metadata": {},
   "outputs": [
    {
     "data": {
      "text/plain": [
       "'3-inch schedule 10 316 stainless steel 90-degree short radius elbow'"
      ]
     },
     "execution_count": 43,
     "metadata": {},
     "output_type": "execute_result"
    }
   ],
   "source": [
    "response['Enriched_Query']"
   ]
  },
  {
   "cell_type": "code",
   "execution_count": 44,
   "metadata": {},
   "outputs": [
    {
     "data": {
      "text/plain": [
       "[MatchResult(Non_Negotiable=False, Negotiable=False),\n",
       " MatchResult(Non_Negotiable=False, Negotiable=False),\n",
       " MatchResult(Non_Negotiable=False, Negotiable=False),\n",
       " MatchResult(Non_Negotiable=False, Negotiable=False)]"
      ]
     },
     "execution_count": 44,
     "metadata": {},
     "output_type": "execute_result"
    }
   ],
   "source": [
    "response['t_n_f_list']"
   ]
  },
  {
   "cell_type": "code",
   "execution_count": 45,
   "metadata": {},
   "outputs": [
    {
     "data": {
      "text/plain": [
       "{'status': False, 'suggestion': 'N/A'}"
      ]
     },
     "execution_count": 45,
     "metadata": {},
     "output_type": "execute_result"
    }
   ],
   "source": [
    "response['valid']"
   ]
  },
  {
   "cell_type": "code",
   "execution_count": 46,
   "metadata": {},
   "outputs": [
    {
     "data": {
      "text/plain": [
       "0"
      ]
     },
     "execution_count": 46,
     "metadata": {},
     "output_type": "execute_result"
    }
   ],
   "source": [
    "response['count']"
   ]
  },
  {
   "cell_type": "code",
   "execution_count": null,
   "metadata": {},
   "outputs": [],
   "source": []
  },
  {
   "cell_type": "code",
   "execution_count": 47,
   "metadata": {},
   "outputs": [
    {
     "data": {
      "text/plain": [
       "{'Negotiable_Entities': ['10', '90 short radius'],\n",
       " 'Non_Negotiable_Entities': ['3 in', '316']}"
      ]
     },
     "execution_count": 47,
     "metadata": {},
     "output_type": "execute_result"
    }
   ],
   "source": [
    "response['entities']"
   ]
  },
  {
   "cell_type": "code",
   "execution_count": 48,
   "metadata": {},
   "outputs": [],
   "source": [
    "response['output_2'].sort(key=lambda x: (x['Matching_Negotiable_Entities'], x['Matching_Non_Negotiable_Entities']), reverse=True)"
   ]
  },
  {
   "cell_type": "code",
   "execution_count": 49,
   "metadata": {},
   "outputs": [
    {
     "data": {
      "text/plain": [
       "[]"
      ]
     },
     "execution_count": 49,
     "metadata": {},
     "output_type": "execute_result"
    }
   ],
   "source": [
    "response['output_2']"
   ]
  }
 ],
 "metadata": {
  "kernelspec": {
   "display_name": "base",
   "language": "python",
   "name": "python3"
  },
  "language_info": {
   "codemirror_mode": {
    "name": "ipython",
    "version": 3
   },
   "file_extension": ".py",
   "mimetype": "text/x-python",
   "name": "python",
   "nbconvert_exporter": "python",
   "pygments_lexer": "ipython3",
   "version": "3.12.4"
  }
 },
 "nbformat": 4,
 "nbformat_minor": 2
}
