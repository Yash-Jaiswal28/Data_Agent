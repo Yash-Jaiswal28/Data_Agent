{
 "cells": [
  {
   "cell_type": "code",
   "execution_count": 1,
   "metadata": {},
   "outputs": [],
   "source": [
    "import os\n",
    "\n",
    "openai_api_key=os.getenv(\"openai_api_key\")\n",
    "AZURE_OPENAI_DEPLOYMENT_NAME = os.getenv('deployment_name')\n",
    "AZURE_OPENAI_ENDPOINT = os.getenv(\"endpoint\")\n",
    "AZURE_OPENAI_API_VERSION = os.getenv(\"version\")"
   ]
  },
  {
   "cell_type": "code",
   "execution_count": 2,
   "metadata": {},
   "outputs": [],
   "source": [
    "groq_api_key = os.getenv(\"groq_api_key\")\n",
    "from langchain_groq import ChatGroq\n",
    "llm=ChatGroq(groq_api_key=groq_api_key)"
   ]
  },
  {
   "cell_type": "code",
   "execution_count": 3,
   "metadata": {},
   "outputs": [
    {
     "name": "stderr",
     "output_type": "stream",
     "text": [
      "C:\\Users\\yash2\\AppData\\Local\\Temp\\ipykernel_12144\\3069890798.py:3: LangChainDeprecationWarning: The class `AzureChatOpenAI` was deprecated in LangChain 0.0.10 and will be removed in 1.0. An updated version of the class exists in the :class:`~langchain-openai package and should be used instead. To use it run `pip install -U :class:`~langchain-openai` and import as `from :class:`~langchain_openai import AzureChatOpenAI``.\n",
      "  llm= AzureChatOpenAI(\n",
      "d:\\Yash-Python\\Lib\\site-packages\\langchain_community\\chat_models\\azure_openai.py:174: UserWarning: As of openai>=1.0.0, Azure endpoints should be specified via the `azure_endpoint` param not `openai_api_base` (or alias `base_url`). Updating `openai_api_base` from https://soa-openai-sc.openai.azure.com/ to https://soa-openai-sc.openai.azure.com/openai.\n",
      "  warnings.warn(\n",
      "d:\\Yash-Python\\Lib\\site-packages\\langchain_community\\chat_models\\azure_openai.py:181: UserWarning: As of openai>=1.0.0, if `deployment_name` (or alias `azure_deployment`) is specified then `openai_api_base` (or alias `base_url`) should not be. Instead use `deployment_name` (or alias `azure_deployment`) and `azure_endpoint`.\n",
      "  warnings.warn(\n",
      "d:\\Yash-Python\\Lib\\site-packages\\langchain_community\\chat_models\\azure_openai.py:189: UserWarning: As of openai>=1.0.0, if `openai_api_base` (or alias `base_url`) is specified it is expected to be of the form https://example-resource.azure.openai.com/openai/deployments/example-deployment. Updating https://soa-openai-sc.openai.azure.com/ to https://soa-openai-sc.openai.azure.com/openai.\n",
      "  warnings.warn(\n"
     ]
    }
   ],
   "source": [
    "from langchain.chat_models import AzureChatOpenAI\n",
    "\n",
    "llm= AzureChatOpenAI(\n",
    "    deployment_name=AZURE_OPENAI_DEPLOYMENT_NAME,\n",
    "    openai_api_base=AZURE_OPENAI_ENDPOINT,\n",
    "    openai_api_key=openai_api_key,\n",
    "    openai_api_version=AZURE_OPENAI_API_VERSION\n",
    ")"
   ]
  },
  {
   "cell_type": "code",
   "execution_count": 4,
   "metadata": {},
   "outputs": [],
   "source": [
    "from langchain_core.tools import Tool\n",
    "from langchain_google_community import GoogleSearchAPIWrapper\n",
    "\n",
    "search = GoogleSearchAPIWrapper(\n",
    "    k=2\n",
    ")\n",
    "\n",
    "google_search = Tool(\n",
    "    name=\"google_search\",\n",
    "    func=search.run,\n",
    "    description=\"Search Engine\",\n",
    "    max_tokens=500\n",
    ")"
   ]
  },
  {
   "cell_type": "code",
   "execution_count": 5,
   "metadata": {},
   "outputs": [
    {
     "name": "stderr",
     "output_type": "stream",
     "text": [
      "C:\\Users\\yash2\\AppData\\Local\\Temp\\ipykernel_12144\\3224670667.py:21: PydanticDeprecatedSince20: Pydantic V1 style `@validator` validators are deprecated. You should migrate to Pydantic V2 style `@field_validator` validators, see the migration guide for more details. Deprecated in Pydantic V2.0 to be removed in V3.0. See Pydantic V2 Migration Guide at https://errors.pydantic.dev/2.8/migration/\n",
      "  @validator('Numerical_Entities', pre=True)\n"
     ]
    }
   ],
   "source": [
    "from typing import List, Dict, Optional\n",
    "from pydantic import BaseModel, Field, validator\n",
    "\n",
    "class Enrich(BaseModel):\n",
    "    Product: Optional[str]=Field(description=\"Name/Type of the product in the query\", default=\"N/A\"),\n",
    "    Dimension: Optional[str]=Field(description=\"Dimension of product\", default=\"N/A\"),\n",
    "    Enriched_Query: Optional[str]=Field(description=\"Reformulate the user query into a well-defined and detailed format by utilizing both the query and the provided context.\", default=\"N/A\")\n",
    "\n",
    "class MatchResult(BaseModel):\n",
    "    Product: bool = Field(description=\"Does product matched, true or false.\", default=False)\n",
    "    Dimension: bool = Field(description=\"Does dimension of product matched, true or false.\", default=False)\n",
    "    Numerical_Entities: Optional[List[str]] = Field(\n",
    "        description=\"list of the numerical entities\",\n",
    "        default_factory=list\n",
    "    )\n",
    "    Non_Numerical_Entities: Optional[List[str]] = Field(\n",
    "        description=\"list of non-numerical entities\",\n",
    "        default_factory=list\n",
    "    )\n",
    "\n",
    "    @validator('Numerical_Entities', pre=True)\n",
    "    def convert_numerical_to_str(cls, v):\n",
    "        if v is None:\n",
    "            return []\n",
    "        return [str(x) for x in v]\n",
    "\n",
    "class ProductDetails(BaseModel):\n",
    "    Product_id: str=Field(description=\"Product id\")\n",
    "    description: str=Field(description=\"Description of the product\")\n",
    "    Matching_Numerical_Entities: Optional[int] = Field(description=\"Number of Matching Numerical Entities\", default=0)\n",
    "    Matching_Non_Numerical_Entities: Optional[int] = Field(description=\"Number of matched non-numerical entities\", default=0)\n",
    "\n",
    "class Product(BaseModel):\n",
    "    Product_id: Optional[str]\n",
    "    Manufacturer_Part_No: Optional[str] = Field(alias=\"Manufacturer Part No. \")\n",
    "    description: Optional[str]\n",
    "    stock_type: Optional[int]\n",
    "    additional_information: Optional[Dict[str, str]]=Field(default_factory={})\n",
    "\n",
    "class State(BaseModel):\n",
    "    query: str\n",
    "    context: Optional[str]\n",
    "    output_1: Optional[Enrich]\n",
    "    products_list: List[Product]\n",
    "    t_n_f_list: Optional[List[MatchResult]]\n",
    "    output_2: Optional[List[ProductDetails]] \n"
   ]
  },
  {
   "cell_type": "code",
   "execution_count": 6,
   "metadata": {},
   "outputs": [],
   "source": [
    "def google(state:State)->str:\n",
    "    return {\"context\":google_search.invoke(state.query)}"
   ]
  },
  {
   "cell_type": "code",
   "execution_count": 7,
   "metadata": {},
   "outputs": [],
   "source": [
    "from langchain_core.output_parsers import JsonOutputParser\n",
    "from langchain_core.prompts import PromptTemplate, ChatPromptTemplate\n"
   ]
  },
  {
   "cell_type": "code",
   "execution_count": 8,
   "metadata": {},
   "outputs": [
    {
     "data": {
      "text/plain": [
       "'... x Socket x ... 2 x 1/2 x 1/8-Inch (50/Cs). Login to view price. Product Image. 128070507 PVC Reducing Tee Fitting - Schedule 40 - Socket x Socket x Thread - 3/4\\xa0... 3FST1FF 1 1/2 X 1/2 3M# FS THR TEE A105. 1-1/2 x 3/4 in REDUCER TEE. 3FST1FF 1 1/2 X 1/2 3M# FS THR TEE A105. Log In for Pricing and Availability · 3FS902F 2 1/\\xa0...'"
      ]
     },
     "execution_count": 8,
     "metadata": {},
     "output_type": "execute_result"
    }
   ],
   "source": [
    "google_search.invoke(\"2 in x 2 in x 3/4 in thrd tee C.S\")"
   ]
  },
  {
   "cell_type": "code",
   "execution_count": 9,
   "metadata": {},
   "outputs": [],
   "source": [
    "def query_enrich(state: State) -> Dict[str, str]:\n",
    "    system_prompt = f\"\"\"\n",
    "        You are given a product description along with some context. Your task is to extract relevant information and return it as a structured. It should include fields such as the product's quantity, name, and no additional details that can be inferred from the context.\n",
    "        Only give the output, no description is needed.\n",
    "        Query:{state.query}\n",
    "        Context:{state.context}\n",
    "        Output:\n",
    "        Product:(Name/Type of the product in the query),\n",
    "        Dimension:(Dimension of product),\n",
    "        Enriched_Query:(Reformulate the user query into a well-defined and detailed format by utilizing both the query and the provided context.),\n",
    "\n",
    "        Example:\n",
    "        Query:\"1 9 Puma white\"\n",
    "        Context: \"\n",
    "        MUST INCLUDE THESE THREE PARAMETERS IN OUTPUT.\n",
    "        \"\"\"\n",
    "\n",
    "    parser = JsonOutputParser(pydantic_object=Enrich)\n",
    "\n",
    "    prompt = PromptTemplate(\n",
    "        template=\"\"\"\n",
    "            Information: {enr}\n",
    "            In format: {format}\n",
    "        \"\"\",\n",
    "        input_variables=[\"enr\"],\n",
    "        partial_variables={\"format\": parser.get_format_instructions()},\n",
    "    )\n",
    "    chain = prompt | llm | parser\n",
    "\n",
    "    # Get the response as a Pydantic model\n",
    "    response = chain.invoke({\n",
    "        \"enr\": llm.invoke(system_prompt).content\n",
    "    })\n",
    "\n",
    "    # Create output_1 using dot notation to access the Pydantic model attributes\n",
    "    # output_1 = enrich(\n",
    "    #     Product=response.Product,\n",
    "    #     Dimension=response.Dimension,\n",
    "    #     Enriched_Query=response.Enriched_Query\n",
    "    # )\n",
    "\n",
    "    return {\"output_1\": response}"
   ]
  },
  {
   "cell_type": "code",
   "execution_count": 10,
   "metadata": {},
   "outputs": [],
   "source": [
    "def query_enrich_1():\n",
    "    system_prompt = f\"\"\"\n",
    "        You are given a product description along with some context. Your task is to extract relevant information and return it as a structured. It should include fields such as the product's quantity, name, and no additional details that can be inferred from the context.\n",
    "        Only give the output.\n",
    "        Query:2 x 2 x 3/4 thrd tee C.S\n",
    "        Context:{google_search.invoke(\"2 in x 2 in x 3/4 in thrd tee C.S\")}\n",
    "        Output:\n",
    "        Product:(Name/Type of the product in the query),\n",
    "        Dimension:(Dimension of product),\n",
    "        Enriched_Query:(Reformulate the user query into a well-defined and detailed format by utilizing both the query and the provided context.),\n",
    "        \n",
    "        MUST INCLUDE THESE THREE PARAMETERS IN OUTPUT.\n",
    "        \"\"\"\n",
    "\n",
    "    parser = JsonOutputParser(pydantic_object=Enrich)\n",
    "\n",
    "    prompt = PromptTemplate(\n",
    "        template=\"\"\"\n",
    "            Information: {enr}\n",
    "            In format: {format}\n",
    "        \"\"\",\n",
    "        input_variables=[\"enr\"],\n",
    "        partial_variables={\"format\": parser.get_format_instructions()},\n",
    "    )\n",
    "    chain = prompt | llm | parser\n",
    "\n",
    "    # Get the response as a Pydantic model\n",
    "    response = chain.invoke({\n",
    "        \"enr\": llm.invoke(system_prompt).content\n",
    "    })\n",
    "\n",
    "    # Create output_1 using dot notation to access the Pydantic model attributes\n",
    "    # output_1 = enrich(\n",
    "    #     Product=response.Product,\n",
    "    #     Dimension=response.Dimension,\n",
    "    #     Enriched_Query=response.Enriched_Query\n",
    "    # )\n",
    "\n",
    "    return response"
   ]
  },
  {
   "cell_type": "code",
   "execution_count": 11,
   "metadata": {},
   "outputs": [
    {
     "name": "stderr",
     "output_type": "stream",
     "text": [
      "d:\\Yash-Python\\Lib\\site-packages\\pydantic\\json_schema.py:2179: PydanticJsonSchemaWarning: Default value (FieldInfo(annotation=NoneType, required=False, default='N/A', description='Name/Type of the product in the query'),) is not JSON serializable; excluding default from JSON schema [non-serializable-default]\n",
      "  warnings.warn(message, PydanticJsonSchemaWarning)\n",
      "d:\\Yash-Python\\Lib\\site-packages\\pydantic\\json_schema.py:2179: PydanticJsonSchemaWarning: Default value (FieldInfo(annotation=NoneType, required=False, default='N/A', description='Dimension of product'),) is not JSON serializable; excluding default from JSON schema [non-serializable-default]\n",
      "  warnings.warn(message, PydanticJsonSchemaWarning)\n"
     ]
    }
   ],
   "source": [
    "res=query_enrich_1()"
   ]
  },
  {
   "cell_type": "code",
   "execution_count": 12,
   "metadata": {},
   "outputs": [
    {
     "name": "stdout",
     "output_type": "stream",
     "text": [
      "{'Product': 'Tee', 'Dimension': '2 x 2 x 3/4', 'Enriched_Query': '2 x 2 x 3/4 inch threaded tee made of Carbon Steel (C.S)'}\n"
     ]
    }
   ],
   "source": [
    "print(res)"
   ]
  },
  {
   "cell_type": "code",
   "execution_count": 13,
   "metadata": {},
   "outputs": [],
   "source": [
    "def product_find(state: State)-> List[Dict[str,str]]:\n",
    "    system_prompt = \"\"\"\n",
    "        You are an expert at matching user queries with inventory items. Given a set of **product details** from a user and an **inventory list** of products, evaluate if the user-provided details match the items in the inventory. For a match to be valid, the following conditions must be met:\n",
    "\n",
    "        1) The **dimensions** of the product in the inventory must exactly match the dimensions provided by the user, in the same order and format, with no additions or omissions.\n",
    "        2) The **product name** in the inventory may have similar context match with the product name or enriched query specified by the user.\n",
    "\n",
    "        **User-Provided Product Details:**\n",
    "        Product Name:{name}\n",
    "        Product Dimension:{dimension}\n",
    "        Enriched Query: {Query}\n",
    "\n",
    "        **Inventory List:**\n",
    "        {inventory}\n",
    "        \n",
    "        **Expected Output:**\n",
    "        Product: true/false, \n",
    "        Dimension: true/false\n",
    "\n",
    "        ONLY GIVE OUTPUT IN THE GIVEN FORMAT, NO EXTRA INFORMATION, SYMBOLS, TOKEN OR ANY OTHER TEXT IS NECESSARY\n",
    "    \"\"\"\n",
    "    system_prompt_1 = \"\"\"\n",
    "        You are an expert data analyzer. Your task is to extract and classify entities from a given query into two categories: **numerical entities** and **non-numerical entities**. Provide the results strictly in the following format below:\n",
    "\n",
    "        Input Query: \n",
    "        {Input_Query}\n",
    "\n",
    "        Output:\n",
    "        Numerical_Entities: list of numerical entities (Use N/A if not found)\n",
    "        Non_Numerical_Entities: list of unique non-numerical entities (Use N/A if not found)\n",
    "\n",
    "        ### Example:\n",
    "\n",
    "        Input Query: \n",
    "        10 quantities of 2-inch by 2-inch by 3/4-inch threaded tee fitting made of carbon steel (C.S.)\n",
    "\n",
    "        Output:\n",
    "        Numerical_Entities: [10, 2-inch by 2-inch by 3/4-inch],\n",
    "        Non_Numerical_Entities: [\"threaded tee fitting\", \"carbon steel\"]\n",
    "\n",
    "        ONLY GIVE OUTPUT. DO NOT INCLUDE EXTRA INFORMATION, SYMBOLS, OR TEXT.\n",
    "    \"\"\"\n",
    "    parser = JsonOutputParser(pydantic_object=MatchResult)\n",
    "    template = ChatPromptTemplate.from_messages([\n",
    "        (\"system\", system_prompt),\n",
    "    ])\n",
    "\n",
    "    template_1 = ChatPromptTemplate.from_messages([\n",
    "        (\"system\", system_prompt_1)\n",
    "    ])\n",
    "    \n",
    "    # Use dot notation to access Pydantic model attributes\n",
    "    prompt_value_1 = template_1.invoke(\n",
    "        {\n",
    "            \"Input_Query\": state.output_1.Enriched_Query  # Changed from dictionary access to dot notation\n",
    "        }\n",
    "    )\n",
    "    response_1 = llm.invoke(prompt_value_1).content\n",
    "    output = []\n",
    "    \n",
    "    for prod_list in state.products_list:\n",
    "        prompt_value = template.invoke(\n",
    "            {\n",
    "                \"name\": state.output_1.Product,  # Changed from dictionary access to dot notation\n",
    "                \"dimension\": state.output_1.Dimension, \n",
    "                 \"Query\": state.output_1.Enriched_Query, # Changed from dictionary access to dot notation\n",
    "                \"inventory\": {\n",
    "                    \"Product_id\": prod_list.Product_id,\n",
    "                    \"Manufacturer_Part_No\": prod_list.Manufacturer_Part_No,\n",
    "                    \"description\": prod_list.description,\n",
    "                    \"stock_type\": prod_list.stock_type,\n",
    "                    \"additional_information\": prod_list.additional_information\n",
    "                }\n",
    "            }\n",
    "        )\n",
    "        response = llm.invoke(prompt_value).content\n",
    "\n",
    "        prompt_val = PromptTemplate(\n",
    "            template=\"{resp} and {resp_1}, in this {format}\",\n",
    "            input_variables=[\"resp\", \"resp_1\"],\n",
    "            partial_variables={\"format\": parser.get_format_instructions()}\n",
    "        )\n",
    "        chain = prompt_val | llm | parser\n",
    "\n",
    "        output.append(chain.invoke({\n",
    "            \"resp\": response,\n",
    "            \"resp_1\": response_1\n",
    "        }))\n",
    "    \n",
    "    return {\"t_n_f_list\": output}"
   ]
  },
  {
   "cell_type": "code",
   "execution_count": 14,
   "metadata": {},
   "outputs": [],
   "source": [
    "def filter(state: State)-> List[Dict[str,str]]:\n",
    "    system_prompt=\"\"\"\n",
    "        You are an expert product matcher. Your task is to compare the numerical entities of a product with its description and count the number of numerical entities that seems similar between them. Provide the exact count as an integer. \n",
    "\n",
    "        General list of numerical entities:\n",
    "            - Amount \n",
    "            - Count \n",
    "            - Percentage \n",
    "            - Date \n",
    "            - Time \n",
    "            - Distance \n",
    "            - Quantity \n",
    "            - Rate \n",
    "            - Rank \n",
    "            - Size \n",
    "            - ID Number\n",
    "            - Dimension \n",
    "\n",
    "        ### Input Format:\n",
    "\n",
    "        Numerical Entities: {numerical_entities}\n",
    "        Product Description: {description}\n",
    "\n",
    "        ### Output Format:\n",
    "        (number,0 if not matched)\n",
    "\n",
    "        ### Example:\n",
    "\n",
    "        Numerical Entities: [\"2-inch by 2-inch by 3/4-inch\", \"10\"]  \n",
    "        Product Description: \"10 quantities of a 2-inch by 2-inch by 3/4-inch threaded tee fitting.\"\n",
    "\n",
    "        Output:\n",
    "        2  \n",
    "\n",
    "        ONLY GIVE OUTPUT IN THE SINGLE INTEGER, NO EXTRA INFORMATION, SYMBOLS, TOKEN OR ANY OTHER TEXT IS NECESSARY\n",
    "\"\"\"\n",
    "    system_prompt_1=\"\"\"\n",
    "        You are an expert product matcher. Your task is to compare the non-numerical entities of a product with its description and count the number of numerical entities that seems similar between them. Provide the exact count as an integer. \n",
    "\n",
    "        General list of non-numerical entities:\n",
    "            - Organization \n",
    "            - Person \n",
    "            - Location \n",
    "            - Product \n",
    "            - Service \n",
    "            - Event \n",
    "            - Process \n",
    "            - Category \n",
    "            - Attribute \n",
    "            - Keyword \n",
    "            - Industry\n",
    "        \n",
    "        ### Input Format:\n",
    "\n",
    "        Numerical Entities: {non_numerical_entities}\n",
    "        Product Description: {description}\n",
    "\n",
    "        ### Output Format:\n",
    "        (number)\n",
    "\n",
    "        ### Example:\n",
    "\n",
    "        Non_Numerical Entities: \"threaded tee fitting\", \"carbon steel (C.S.)\"\n",
    "        Product Description: \"10 quantities of a 2-inch by 2-inch by 3/4-inch threaded tee fitting.\"\n",
    "\n",
    "        Output:\n",
    "        1   \n",
    "\n",
    "        ONLY GIVE OUTPUT IN THE SINGLE INTEGER, NO EXTRA INFORMATION, SYMBOLS, TOKEN OR ANY OTHER TEXT IS NECESSARY\n",
    "    \"\"\"\n",
    "    template=ChatPromptTemplate.from_messages({\n",
    "        (\"system\",system_prompt)\n",
    "    })\n",
    "    template_1=ChatPromptTemplate.from_messages({\n",
    "        (\"system\",system_prompt_1)\n",
    "    })\n",
    "    temp = []\n",
    "    parser=JsonOutputParser(pydantic_object=ProductDetails)\n",
    "\n",
    "    for i in range(len(state.t_n_f_list)):\n",
    "        # Ensure that each item in t_n_f_list is a dictionary\n",
    "        current_dict = state.t_n_f_list[i]\n",
    "        if current_dict.Product or current_dict.Dimension:\n",
    "            prompt_value=template.invoke(\n",
    "                {\n",
    "                    \"numerical_entities\":state.t_n_f_list[i].Numerical_Entities,\n",
    "                    \"description\":state.products_list[i].description\n",
    "                }\n",
    "            )\n",
    "            num=llm.invoke(prompt_value).content\n",
    "            prompt_value_1=template_1.invoke(\n",
    "                {\n",
    "                    \"non_numerical_entities\":state.t_n_f_list[i].Non_Numerical_Entities,\n",
    "                    \"description\":state.products_list[i].description\n",
    "                }\n",
    "            )\n",
    "            non_num=llm.invoke(prompt_value_1).content\n",
    "            prompt=PromptTemplate(\n",
    "                template=\"\"\"\n",
    "                            Product id: {id},\n",
    "                            description:{desp},\n",
    "                            number of numerical entities:{nm},\n",
    "                            number of non-numerical entites:{n_num},\n",
    "                            In format: {format}\n",
    "                        \"\"\",\n",
    "                input_variables=[\"id\",\"desp\",\"nm\",\"n_num\"],\n",
    "                partial_variables={\"format\":parser.get_format_instructions()}\n",
    "            )\n",
    "            chain=prompt | llm | parser\n",
    "            \n",
    "            updated_product = chain.invoke({\n",
    "                \"id\":state.products_list[i].Product_id,\n",
    "                \"desp\":state.products_list[i].description,\n",
    "                \"nm\":num,\n",
    "                \"n_num\":non_num\n",
    "            })\n",
    "            temp.append(updated_product)\n",
    "    return {'output_2': temp}"
   ]
  },
  {
   "cell_type": "code",
   "execution_count": 15,
   "metadata": {},
   "outputs": [
    {
     "name": "stderr",
     "output_type": "stream",
     "text": [
      "d:\\Yash-Python\\Lib\\site-packages\\langgraph\\graph\\graph.py:36: LangChainDeprecationWarning: As of langchain-core 0.3.0, LangChain uses pydantic v2 internally. The langchain_core.pydantic_v1 module was a compatibility shim for pydantic v1, and should no longer be used. Please update the code to import from Pydantic directly.\n",
      "\n",
      "For example, replace imports like: `from langchain_core.pydantic_v1 import BaseModel`\n",
      "with: `from pydantic import BaseModel`\n",
      "or the v1 compatibility namespace if you are working in a code base that has not been fully upgraded to pydantic 2 yet. \tfrom pydantic.v1 import BaseModel\n",
      "\n",
      "  from langgraph.pregel import Channel, Pregel\n"
     ]
    }
   ],
   "source": [
    "from langgraph.graph import StateGraph, START, END\n",
    "\n",
    "graph_builder = StateGraph(State)\n",
    "\n",
    "graph_builder.add_node(\"search\", google)\n",
    "graph_builder.add_node(\"enrichment\",query_enrich)\n",
    "graph_builder.add_node(\"product\",product_find)\n",
    "graph_builder.add_node('filter_product',filter)\n",
    "\n",
    "graph_builder.add_edge(START,\"search\")\n",
    "graph_builder.add_edge(\"search\",\"enrichment\")\n",
    "graph_builder.add_edge(\"enrichment\",\"product\")\n",
    "graph_builder.add_edge(\"product\",\"filter_product\")\n",
    "graph_builder.add_edge(\"filter_product\",END)"
   ]
  },
  {
   "cell_type": "code",
   "execution_count": 16,
   "metadata": {},
   "outputs": [],
   "source": [
    "graph=graph_builder.compile()"
   ]
  },
  {
   "cell_type": "code",
   "execution_count": 17,
   "metadata": {},
   "outputs": [
    {
     "data": {
      "image/png": "[encoded data removed]",
      "text/plain": [
       "<IPython.core.display.Image object>"
      ]
     },
     "metadata": {},
     "output_type": "display_data"
    }
   ],
   "source": [
    "from IPython.display import Image, display\n",
    "\n",
    "try:\n",
    "    display(Image(graph.get_graph().draw_mermaid_png()))\n",
    "except Exception:\n",
    "\n",
    "    pass"
   ]
  },
  {
   "cell_type": "code",
   "execution_count": 18,
   "metadata": {},
   "outputs": [],
   "source": [
    "user_input=\"3 in(inch) schedule sch(schedule) 10 316 90s(90 short radius) 90 degree elbow\""
   ]
  },
  {
   "cell_type": "code",
   "execution_count": 19,
   "metadata": {},
   "outputs": [],
   "source": [
    "import json\n",
    "with open('context_data_3.json', 'r') as f:\n",
    "    context_data = json.load(f)"
   ]
  },
  {
   "cell_type": "code",
   "execution_count": 20,
   "metadata": {},
   "outputs": [],
   "source": [
    "context_data=[\n",
    "    {\n",
    "        \"Product_id\": \"75fnte\",\n",
    "        \"Manufacturer Part No. \": \"75fnte\",\n",
    "        \"description\": \"lock nut thin nylon insert measurement system imperial 3/4 - 16 thread\",\n",
    "        \"stock_type\": 1,\n",
    "        \"additional_information\": {}\n",
    "    }]"
   ]
  },
  {
   "cell_type": "code",
   "execution_count": 21,
   "metadata": {},
   "outputs": [
    {
     "name": "stderr",
     "output_type": "stream",
     "text": [
      "d:\\Yash-Python\\Lib\\site-packages\\pydantic\\json_schema.py:2179: PydanticJsonSchemaWarning: Default value (FieldInfo(annotation=NoneType, required=False, default='N/A', description='Name/Type of the product in the query'),) is not JSON serializable; excluding default from JSON schema [non-serializable-default]\n",
      "  warnings.warn(message, PydanticJsonSchemaWarning)\n",
      "d:\\Yash-Python\\Lib\\site-packages\\pydantic\\json_schema.py:2179: PydanticJsonSchemaWarning: Default value (FieldInfo(annotation=NoneType, required=False, default='N/A', description='Dimension of product'),) is not JSON serializable; excluding default from JSON schema [non-serializable-default]\n",
      "  warnings.warn(message, PydanticJsonSchemaWarning)\n"
     ]
    }
   ],
   "source": [
    "response = graph.invoke({\n",
    "    \"query\":f\"{user_input}\",\n",
    "    \"products_list\":context_data\n",
    "})"
   ]
  },
  {
   "cell_type": "code",
   "execution_count": 22,
   "metadata": {},
   "outputs": [
    {
     "data": {
      "text/plain": [
       "{'Product': '90 degree elbow',\n",
       " 'Dimension': '3 inch',\n",
       " 'Enriched_Query': '3 inch Schedule 10 316 90 short radius 90 degree elbow ANSI B16.9 Butt Weld'}"
      ]
     },
     "execution_count": 22,
     "metadata": {},
     "output_type": "execute_result"
    }
   ],
   "source": [
    "response['output_1']"
   ]
  },
  {
   "cell_type": "code",
   "execution_count": 23,
   "metadata": {},
   "outputs": [
    {
     "data": {
      "text/plain": [
       "[{'Product': False,\n",
       "  'Dimension': False,\n",
       "  'Numerical_Entities': ['3', '10', '316', '90', '90'],\n",
       "  'Non_Numerical_Entities': ['inch',\n",
       "   'Schedule',\n",
       "   'short radius',\n",
       "   'degree',\n",
       "   'elbow',\n",
       "   'ANSI B16.9',\n",
       "   'Butt Weld']}]"
      ]
     },
     "execution_count": 23,
     "metadata": {},
     "output_type": "execute_result"
    }
   ],
   "source": [
    "(response['t_n_f_list'])"
   ]
  },
  {
   "cell_type": "code",
   "execution_count": 24,
   "metadata": {},
   "outputs": [
    {
     "data": {
      "text/plain": [
       "[{'Product_id': '75fnte',\n",
       "  'Manufacturer Part No. ': '75fnte',\n",
       "  'description': 'lock nut thin nylon insert measurement system imperial 3/4 - 16 thread',\n",
       "  'stock_type': 1,\n",
       "  'additional_information': {}}]"
      ]
     },
     "execution_count": 24,
     "metadata": {},
     "output_type": "execute_result"
    }
   ],
   "source": [
    "response['products_list']"
   ]
  },
  {
   "cell_type": "code",
   "execution_count": 25,
   "metadata": {},
   "outputs": [],
   "source": [
    "response['output_2'].sort(key=lambda x: (x['Matching_Numerical_Entities'], x['Matching_Non_Numerical_Entities']), reverse=True)"
   ]
  },
  {
   "cell_type": "code",
   "execution_count": 26,
   "metadata": {},
   "outputs": [
    {
     "data": {
      "text/plain": [
       "[]"
      ]
     },
     "execution_count": 26,
     "metadata": {},
     "output_type": "execute_result"
    }
   ],
   "source": [
    "response['output_2']"
   ]
  },
  {
   "cell_type": "code",
   "execution_count": null,
   "metadata": {},
   "outputs": [],
   "source": []
  }
 ],
 "metadata": {
  "kernelspec": {
   "display_name": "base",
   "language": "python",
   "name": "python3"
  },
  "language_info": {
   "codemirror_mode": {
    "name": "ipython",
    "version": 3
   },
   "file_extension": ".py",
   "mimetype": "text/x-python",
   "name": "python",
   "nbconvert_exporter": "python",
   "pygments_lexer": "ipython3",
   "version": "3.12.4"
  }
 },
 "nbformat": 4,
 "nbformat_minor": 2
}
