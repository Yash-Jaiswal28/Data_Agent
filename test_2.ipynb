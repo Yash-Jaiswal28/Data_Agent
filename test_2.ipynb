{
 "cells": [
  {
   "cell_type": "code",
   "execution_count": 151,
   "metadata": {},
   "outputs": [],
   "source": [
    "import os\n",
    "\n",
    "openai_api_key=os.getenv(\"openai_api_key\")\n",
    "AZURE_OPENAI_DEPLOYMENT_NAME = os.getenv('deployment_name')\n",
    "AZURE_OPENAI_ENDPOINT = os.getenv(\"endpoint\")\n",
    "AZURE_OPENAI_API_VERSION = os.getenv(\"version\")"
   ]
  },
  {
   "cell_type": "code",
   "execution_count": 152,
   "metadata": {},
   "outputs": [],
   "source": [
    "groq_api_key = os.getenv(\"groq_api_key\")\n",
    "from langchain_groq import ChatGroq\n",
    "llm=ChatGroq(groq_api_key=groq_api_key)"
   ]
  },
  {
   "cell_type": "code",
   "execution_count": 153,
   "metadata": {},
   "outputs": [
    {
     "name": "stderr",
     "output_type": "stream",
     "text": [
      "d:\\Yash-Python\\Lib\\site-packages\\langchain_community\\chat_models\\azure_openai.py:174: UserWarning: As of openai>=1.0.0, Azure endpoints should be specified via the `azure_endpoint` param not `openai_api_base` (or alias `base_url`). Updating `openai_api_base` from https://soa-openai-sc.openai.azure.com/ to https://soa-openai-sc.openai.azure.com/openai.\n",
      "  warnings.warn(\n",
      "d:\\Yash-Python\\Lib\\site-packages\\langchain_community\\chat_models\\azure_openai.py:181: UserWarning: As of openai>=1.0.0, if `deployment_name` (or alias `azure_deployment`) is specified then `openai_api_base` (or alias `base_url`) should not be. Instead use `deployment_name` (or alias `azure_deployment`) and `azure_endpoint`.\n",
      "  warnings.warn(\n",
      "d:\\Yash-Python\\Lib\\site-packages\\langchain_community\\chat_models\\azure_openai.py:189: UserWarning: As of openai>=1.0.0, if `openai_api_base` (or alias `base_url`) is specified it is expected to be of the form https://example-resource.azure.openai.com/openai/deployments/example-deployment. Updating https://soa-openai-sc.openai.azure.com/ to https://soa-openai-sc.openai.azure.com/openai.\n",
      "  warnings.warn(\n"
     ]
    }
   ],
   "source": [
    "from langchain.chat_models import AzureChatOpenAI\n",
    "\n",
    "llm= AzureChatOpenAI(\n",
    "    deployment_name=AZURE_OPENAI_DEPLOYMENT_NAME,\n",
    "    openai_api_base=AZURE_OPENAI_ENDPOINT,\n",
    "    openai_api_key=openai_api_key,\n",
    "    openai_api_version=AZURE_OPENAI_API_VERSION\n",
    ")"
   ]
  },
  {
   "cell_type": "code",
   "execution_count": 154,
   "metadata": {},
   "outputs": [],
   "source": [
    "from langchain_core.tools import Tool\n",
    "from langchain_google_community import GoogleSearchAPIWrapper\n",
    "\n",
    "search = GoogleSearchAPIWrapper(\n",
    "    k=2\n",
    ")\n",
    "\n",
    "google_search = Tool(\n",
    "    name=\"google_search\",\n",
    "    func=search.run,\n",
    "    description=\"Search Engine\",\n",
    "    max_tokens=500\n",
    ")"
   ]
  },
  {
   "cell_type": "code",
   "execution_count": 155,
   "metadata": {},
   "outputs": [],
   "source": [
    "from typing import TypedDict, List, Dict, Optional\n",
    "\n",
    "class State(TypedDict):\n",
    "    query:str\n",
    "    context:Optional[str]\n",
    "    output_1:Dict[str,str]\n",
    "    products_list:Dict[str,str]\n",
    "    t_n_f_list:List[Dict[str,str]]\n",
    "    output_2:List[str]\n"
   ]
  },
  {
   "cell_type": "code",
   "execution_count": 156,
   "metadata": {},
   "outputs": [],
   "source": [
    "def google(state:State):\n",
    "    return {\"context\":google_search.invoke(state[\"query\"])}"
   ]
  },
  {
   "cell_type": "code",
   "execution_count": 157,
   "metadata": {},
   "outputs": [
    {
     "data": {
      "text/plain": [
       "'The official website of the Aloha State. Home Search Search Online Services | Government Directory Latest News Agencies State Calendar State Officials Social\\xa0... Buy, Trade, Send and Earn Crypto & Fiat. Deposit Bitcoin, ETH, USDT and other cryptos and start earning. Get the hi Debit Card and Multi-Currency IBAN\\xa0...'"
      ]
     },
     "execution_count": 157,
     "metadata": {},
     "output_type": "execute_result"
    }
   ],
   "source": [
    "google_search.invoke(\"hi\")"
   ]
  },
  {
   "cell_type": "code",
   "execution_count": 158,
   "metadata": {},
   "outputs": [],
   "source": [
    "def query_enrich(state:State):\n",
    "    system_prompt = f\"\"\"\n",
    "        You are given a product description along with some context. Your task is to extract relevant information and return it as a structured. It should include fields such as the product's quantity, name, and no additional details that can be inferred from the context.\n",
    "        Only give the output, no description is needed.\n",
    "        Query:{state['query']}\n",
    "        Context:{state['context']}\n",
    "        Output:\n",
    "        Product:(Porduct name, N/A if not found),\n",
    "        Dimension:(Product Dimension, N/A if not found),\n",
    "        Enriched Query:(Enriched Query, N/A if not found),\n",
    "        \n",
    "        MUST INCLUDE THESE THREE PARAMETERS IN OUTPUT.\n",
    "        \n",
    "        Example Input:\n",
    "\n",
    "        Query: 2 in x 2 in x 3/4 in thrd tee C.S\n",
    "        Context: \n",
    "        The query refers to a 2-inch by 2-inch by 3/4-inch threaded tee fitting made of carbon steel (C.S.). A tee fitting is a pipe connector with three ends, typically used to branch a pipe in a plumbing or piping system. The dimensions, \"2 in x 2 in x 3/4 in,\" indicate that the main diameter size for the two primary connections is 2 inches, while the branch diameter is 3/4 inches.\n",
    "\n",
    "        Expected Output: (This just an example)\n",
    "        Product: Threaded tee,\n",
    "        Dimension: 2 in x 2 in x 3/4 in,\n",
    "        Enriched Query: 2-inch by 2-inch by 3/4-inch threaded tee fitting made of carbon steel (C.S.)\n",
    "\n",
    "        ONLY GIVE OUPUT IN THE GIVEN FORMAT, NO EXTRA INFORMATION, SYMBOLS, TOKEN OR ANY OTHER TEXT IS NECESSARY\n",
    "        \"\"\"\n",
    "    response=llm.invoke(system_prompt)  # Changed from llm() to llm.invoke()\n",
    "\n",
    "    resp = [\n",
    "        {text[0].strip(): text[1].strip()}\n",
    "        for i in response.content.split(',')\n",
    "        if (text := i.split(\":\")) and len(text) == 2\n",
    "    ]\n",
    "    single_dict = {k: v for d in resp for k, v in d.items()}\n",
    "\n",
    "    return {\"output_1\":single_dict}"
   ]
  },
  {
   "cell_type": "code",
   "execution_count": 159,
   "metadata": {},
   "outputs": [],
   "source": [
    "def query_enrich_1():\n",
    "    system_prompt = f\"\"\"\n",
    "        You are given a product description along with some context. Your task is to extract relevant information and return it as a structured. It should include fields such as the product's quantity, name, and no additional details that can be inferred from the context.\n",
    "        Only give the output, no description is needed.\n",
    "        Query:{user_input}\n",
    "        Context:{google_search.invoke(user_input)}\n",
    "        Output:\n",
    "        Product:(Porduct name, N/A if not found),\n",
    "        Dimension:(Product Dimension, N/A if not found),\n",
    "        Enriched Query:(Enriched Query, N/A if not found),\n",
    "        \n",
    "        MUST INCLUDE THESE THREE PARAMETERS IN OUTPUT.\n",
    "        \n",
    "        Example Input:\n",
    "\n",
    "        Query: 2 in x 2 in x 3/4 in thrd tee C.S\n",
    "        Context: \n",
    "        The query refers to a 2-inch by 2-inch by 3/4-inch threaded tee fitting made of carbon steel (C.S.). A tee fitting is a pipe connector with three ends, typically used to branch a pipe in a plumbing or piping system. The dimensions, \"2 in x 2 in x 3/4 in,\" indicate that the main diameter size for the two primary connections is 2 inches, while the branch diameter is 3/4 inches.\n",
    "\n",
    "        Expected Output: (This just an example)\n",
    "        Product: Threaded tee,\n",
    "        Dimension: 2 in x 2 in x 3/4 in,\n",
    "        Enriched Query: 2-inch by 2-inch by 3/4-inch threaded tee fitting made of carbon steel (C.S.)\n",
    "        \"\"\"\n",
    "    response=llm.invoke(system_prompt)  # Changed from llm() to llm.invoke()\n",
    "\n",
    "    resp = [\n",
    "        {text[0].strip(): text[1].strip()}\n",
    "        for i in response.content.split(',')\n",
    "        if (text := i.split(\":\")) and len(text) == 2\n",
    "    ]\n",
    "    single_dict = {k: v for d in resp for k, v in d.items()}\n",
    "\n",
    "    return single_dict"
   ]
  },
  {
   "cell_type": "code",
   "execution_count": 160,
   "metadata": {},
   "outputs": [],
   "source": [
    "ck=query_enrich_1()"
   ]
  },
  {
   "cell_type": "code",
   "execution_count": 161,
   "metadata": {},
   "outputs": [
    {
     "data": {
      "text/plain": [
       "{'Product': 'Threaded tee',\n",
       " 'Dimension': '2 in x 2 in x 3/4 in',\n",
       " 'Enriched Query': '2-inch by 2-inch by 3/4-inch threaded tee fitting made of carbon steel (C.S.)'}"
      ]
     },
     "execution_count": 161,
     "metadata": {},
     "output_type": "execute_result"
    }
   ],
   "source": [
    "ck"
   ]
  },
  {
   "cell_type": "code",
   "execution_count": 206,
   "metadata": {},
   "outputs": [
    {
     "ename": "KeyError",
     "evalue": "'\\n    \"Numerical Entities\"'",
     "output_type": "error",
     "traceback": [
      "\u001b[1;31m---------------------------------------------------------------------------\u001b[0m",
      "\u001b[1;31mKeyError\u001b[0m                                  Traceback (most recent call last)",
      "Cell \u001b[1;32mIn[206], line 27\u001b[0m\n\u001b[0;32m      1\u001b[0m system_prompt_1 \u001b[38;5;241m=\u001b[39m \u001b[38;5;124m\"\"\"\u001b[39m\n\u001b[0;32m      2\u001b[0m \u001b[38;5;124mYou are an expert data analyzer. Your task is to extract and classify entities from a given query into two categories: **numerical entities** and **non-numerical entities**. Provide the results strictly in the Python dictionary format below:\u001b[39m\n\u001b[0;32m      3\u001b[0m \n\u001b[1;32m   (...)\u001b[0m\n\u001b[0;32m     23\u001b[0m \u001b[38;5;124mONLY GIVE OUTPUT AS A PYTHON DICTIONARY. DO NOT INCLUDE EXTRA INFORMATION, SYMBOLS, OR TEXT.\u001b[39m\n\u001b[0;32m     24\u001b[0m \u001b[38;5;124m\"\"\"\u001b[39m\n\u001b[0;32m     26\u001b[0m template_1 \u001b[38;5;241m=\u001b[39m ChatPromptTemplate\u001b[38;5;241m.\u001b[39mfrom_template(system_prompt_1)\n\u001b[1;32m---> 27\u001b[0m prompt_value_1 \u001b[38;5;241m=\u001b[39m template_1\u001b[38;5;241m.\u001b[39mformat_prompt(\n\u001b[0;32m     28\u001b[0m     Input_Query\u001b[38;5;241m=\u001b[39m\u001b[38;5;124m\"\u001b[39m\u001b[38;5;124m2-inch by 2-inch by 3/4-inch threaded tee fitting made of carbon steel (C.S.)\u001b[39m\u001b[38;5;124m\"\u001b[39m\n\u001b[0;32m     29\u001b[0m )\n\u001b[0;32m     31\u001b[0m response_1 \u001b[38;5;241m=\u001b[39m llm\u001b[38;5;241m.\u001b[39minvoke(prompt_value_1\u001b[38;5;241m.\u001b[39mto_messages())\u001b[38;5;241m.\u001b[39mcontent\n\u001b[0;32m     33\u001b[0m \u001b[38;5;28mprint\u001b[39m(response_1)\n",
      "File \u001b[1;32md:\\Yash-Python\\Lib\\site-packages\\langchain_core\\prompts\\chat.py:785\u001b[0m, in \u001b[0;36mBaseChatPromptTemplate.format_prompt\u001b[1;34m(self, **kwargs)\u001b[0m\n\u001b[0;32m    776\u001b[0m \u001b[38;5;28;01mdef\u001b[39;00m \u001b[38;5;21mformat_prompt\u001b[39m(\u001b[38;5;28mself\u001b[39m, \u001b[38;5;241m*\u001b[39m\u001b[38;5;241m*\u001b[39mkwargs: Any) \u001b[38;5;241m-\u001b[39m\u001b[38;5;241m>\u001b[39m PromptValue:\n\u001b[0;32m    777\u001b[0m \u001b[38;5;250m    \u001b[39m\u001b[38;5;124;03m\"\"\"Format prompt. Should return a PromptValue.\u001b[39;00m\n\u001b[0;32m    778\u001b[0m \n\u001b[0;32m    779\u001b[0m \u001b[38;5;124;03m    Args:\u001b[39;00m\n\u001b[1;32m   (...)\u001b[0m\n\u001b[0;32m    783\u001b[0m \u001b[38;5;124;03m        PromptValue.\u001b[39;00m\n\u001b[0;32m    784\u001b[0m \u001b[38;5;124;03m    \"\"\"\u001b[39;00m\n\u001b[1;32m--> 785\u001b[0m     messages \u001b[38;5;241m=\u001b[39m \u001b[38;5;28mself\u001b[39m\u001b[38;5;241m.\u001b[39mformat_messages(\u001b[38;5;241m*\u001b[39m\u001b[38;5;241m*\u001b[39mkwargs)\n\u001b[0;32m    786\u001b[0m     \u001b[38;5;28;01mreturn\u001b[39;00m ChatPromptValue(messages\u001b[38;5;241m=\u001b[39mmessages)\n",
      "File \u001b[1;32md:\\Yash-Python\\Lib\\site-packages\\langchain_core\\prompts\\chat.py:1228\u001b[0m, in \u001b[0;36mChatPromptTemplate.format_messages\u001b[1;34m(self, **kwargs)\u001b[0m\n\u001b[0;32m   1224\u001b[0m     result\u001b[38;5;241m.\u001b[39mextend([message_template])\n\u001b[0;32m   1225\u001b[0m \u001b[38;5;28;01melif\u001b[39;00m \u001b[38;5;28misinstance\u001b[39m(\n\u001b[0;32m   1226\u001b[0m     message_template, (BaseMessagePromptTemplate, BaseChatPromptTemplate)\n\u001b[0;32m   1227\u001b[0m ):\n\u001b[1;32m-> 1228\u001b[0m     message \u001b[38;5;241m=\u001b[39m message_template\u001b[38;5;241m.\u001b[39mformat_messages(\u001b[38;5;241m*\u001b[39m\u001b[38;5;241m*\u001b[39mkwargs)\n\u001b[0;32m   1229\u001b[0m     result\u001b[38;5;241m.\u001b[39mextend(message)\n\u001b[0;32m   1230\u001b[0m \u001b[38;5;28;01melse\u001b[39;00m:\n",
      "File \u001b[1;32md:\\Yash-Python\\Lib\\site-packages\\langchain_core\\prompts\\chat.py:612\u001b[0m, in \u001b[0;36m_StringImageMessagePromptTemplate.format_messages\u001b[1;34m(self, **kwargs)\u001b[0m\n\u001b[0;32m    603\u001b[0m \u001b[38;5;28;01mdef\u001b[39;00m \u001b[38;5;21mformat_messages\u001b[39m(\u001b[38;5;28mself\u001b[39m, \u001b[38;5;241m*\u001b[39m\u001b[38;5;241m*\u001b[39mkwargs: Any) \u001b[38;5;241m-\u001b[39m\u001b[38;5;241m>\u001b[39m \u001b[38;5;28mlist\u001b[39m[BaseMessage]:\n\u001b[0;32m    604\u001b[0m \u001b[38;5;250m    \u001b[39m\u001b[38;5;124;03m\"\"\"Format messages from kwargs.\u001b[39;00m\n\u001b[0;32m    605\u001b[0m \n\u001b[0;32m    606\u001b[0m \u001b[38;5;124;03m    Args:\u001b[39;00m\n\u001b[1;32m   (...)\u001b[0m\n\u001b[0;32m    610\u001b[0m \u001b[38;5;124;03m        List of BaseMessages.\u001b[39;00m\n\u001b[0;32m    611\u001b[0m \u001b[38;5;124;03m    \"\"\"\u001b[39;00m\n\u001b[1;32m--> 612\u001b[0m     \u001b[38;5;28;01mreturn\u001b[39;00m [\u001b[38;5;28mself\u001b[39m\u001b[38;5;241m.\u001b[39mformat(\u001b[38;5;241m*\u001b[39m\u001b[38;5;241m*\u001b[39mkwargs)]\n",
      "File \u001b[1;32md:\\Yash-Python\\Lib\\site-packages\\langchain_core\\prompts\\chat.py:647\u001b[0m, in \u001b[0;36m_StringImageMessagePromptTemplate.format\u001b[1;34m(self, **kwargs)\u001b[0m\n\u001b[0;32m    638\u001b[0m \u001b[38;5;250m\u001b[39m\u001b[38;5;124;03m\"\"\"Format the prompt template.\u001b[39;00m\n\u001b[0;32m    639\u001b[0m \n\u001b[0;32m    640\u001b[0m \u001b[38;5;124;03mArgs:\u001b[39;00m\n\u001b[1;32m   (...)\u001b[0m\n\u001b[0;32m    644\u001b[0m \u001b[38;5;124;03m    Formatted message.\u001b[39;00m\n\u001b[0;32m    645\u001b[0m \u001b[38;5;124;03m\"\"\"\u001b[39;00m\n\u001b[0;32m    646\u001b[0m \u001b[38;5;28;01mif\u001b[39;00m \u001b[38;5;28misinstance\u001b[39m(\u001b[38;5;28mself\u001b[39m\u001b[38;5;241m.\u001b[39mprompt, StringPromptTemplate):\n\u001b[1;32m--> 647\u001b[0m     text \u001b[38;5;241m=\u001b[39m \u001b[38;5;28mself\u001b[39m\u001b[38;5;241m.\u001b[39mprompt\u001b[38;5;241m.\u001b[39mformat(\u001b[38;5;241m*\u001b[39m\u001b[38;5;241m*\u001b[39mkwargs)\n\u001b[0;32m    648\u001b[0m     \u001b[38;5;28;01mreturn\u001b[39;00m \u001b[38;5;28mself\u001b[39m\u001b[38;5;241m.\u001b[39m_msg_class(\n\u001b[0;32m    649\u001b[0m         content\u001b[38;5;241m=\u001b[39mtext, additional_kwargs\u001b[38;5;241m=\u001b[39m\u001b[38;5;28mself\u001b[39m\u001b[38;5;241m.\u001b[39madditional_kwargs\n\u001b[0;32m    650\u001b[0m     )\n\u001b[0;32m    651\u001b[0m \u001b[38;5;28;01melse\u001b[39;00m:\n",
      "File \u001b[1;32md:\\Yash-Python\\Lib\\site-packages\\langchain_core\\prompts\\prompt.py:183\u001b[0m, in \u001b[0;36mPromptTemplate.format\u001b[1;34m(self, **kwargs)\u001b[0m\n\u001b[0;32m    174\u001b[0m \u001b[38;5;250m\u001b[39m\u001b[38;5;124;03m\"\"\"Format the prompt with the inputs.\u001b[39;00m\n\u001b[0;32m    175\u001b[0m \n\u001b[0;32m    176\u001b[0m \u001b[38;5;124;03mArgs:\u001b[39;00m\n\u001b[1;32m   (...)\u001b[0m\n\u001b[0;32m    180\u001b[0m \u001b[38;5;124;03m    A formatted string.\u001b[39;00m\n\u001b[0;32m    181\u001b[0m \u001b[38;5;124;03m\"\"\"\u001b[39;00m\n\u001b[0;32m    182\u001b[0m kwargs \u001b[38;5;241m=\u001b[39m \u001b[38;5;28mself\u001b[39m\u001b[38;5;241m.\u001b[39m_merge_partial_and_user_variables(\u001b[38;5;241m*\u001b[39m\u001b[38;5;241m*\u001b[39mkwargs)\n\u001b[1;32m--> 183\u001b[0m \u001b[38;5;28;01mreturn\u001b[39;00m DEFAULT_FORMATTER_MAPPING[\u001b[38;5;28mself\u001b[39m\u001b[38;5;241m.\u001b[39mtemplate_format](\u001b[38;5;28mself\u001b[39m\u001b[38;5;241m.\u001b[39mtemplate, \u001b[38;5;241m*\u001b[39m\u001b[38;5;241m*\u001b[39mkwargs)\n",
      "File \u001b[1;32md:\\Yash-Python\\Lib\\string.py:190\u001b[0m, in \u001b[0;36mFormatter.format\u001b[1;34m(self, format_string, *args, **kwargs)\u001b[0m\n\u001b[0;32m    189\u001b[0m \u001b[38;5;28;01mdef\u001b[39;00m \u001b[38;5;21mformat\u001b[39m(\u001b[38;5;28mself\u001b[39m, format_string, \u001b[38;5;241m/\u001b[39m, \u001b[38;5;241m*\u001b[39margs, \u001b[38;5;241m*\u001b[39m\u001b[38;5;241m*\u001b[39mkwargs):\n\u001b[1;32m--> 190\u001b[0m     \u001b[38;5;28;01mreturn\u001b[39;00m \u001b[38;5;28mself\u001b[39m\u001b[38;5;241m.\u001b[39mvformat(format_string, args, kwargs)\n",
      "File \u001b[1;32md:\\Yash-Python\\Lib\\site-packages\\langchain_core\\utils\\formatting.py:33\u001b[0m, in \u001b[0;36mStrictFormatter.vformat\u001b[1;34m(self, format_string, args, kwargs)\u001b[0m\n\u001b[0;32m     28\u001b[0m     msg \u001b[38;5;241m=\u001b[39m (\n\u001b[0;32m     29\u001b[0m         \u001b[38;5;124m\"\u001b[39m\u001b[38;5;124mNo arguments should be provided, \u001b[39m\u001b[38;5;124m\"\u001b[39m\n\u001b[0;32m     30\u001b[0m         \u001b[38;5;124m\"\u001b[39m\u001b[38;5;124meverything should be passed as keyword arguments.\u001b[39m\u001b[38;5;124m\"\u001b[39m\n\u001b[0;32m     31\u001b[0m     )\n\u001b[0;32m     32\u001b[0m     \u001b[38;5;28;01mraise\u001b[39;00m \u001b[38;5;167;01mValueError\u001b[39;00m(msg)\n\u001b[1;32m---> 33\u001b[0m \u001b[38;5;28;01mreturn\u001b[39;00m \u001b[38;5;28msuper\u001b[39m()\u001b[38;5;241m.\u001b[39mvformat(format_string, args, kwargs)\n",
      "File \u001b[1;32md:\\Yash-Python\\Lib\\string.py:194\u001b[0m, in \u001b[0;36mFormatter.vformat\u001b[1;34m(self, format_string, args, kwargs)\u001b[0m\n\u001b[0;32m    192\u001b[0m \u001b[38;5;28;01mdef\u001b[39;00m \u001b[38;5;21mvformat\u001b[39m(\u001b[38;5;28mself\u001b[39m, format_string, args, kwargs):\n\u001b[0;32m    193\u001b[0m     used_args \u001b[38;5;241m=\u001b[39m \u001b[38;5;28mset\u001b[39m()\n\u001b[1;32m--> 194\u001b[0m     result, _ \u001b[38;5;241m=\u001b[39m \u001b[38;5;28mself\u001b[39m\u001b[38;5;241m.\u001b[39m_vformat(format_string, args, kwargs, used_args, \u001b[38;5;241m2\u001b[39m)\n\u001b[0;32m    195\u001b[0m     \u001b[38;5;28mself\u001b[39m\u001b[38;5;241m.\u001b[39mcheck_unused_args(used_args, args, kwargs)\n\u001b[0;32m    196\u001b[0m     \u001b[38;5;28;01mreturn\u001b[39;00m result\n",
      "File \u001b[1;32md:\\Yash-Python\\Lib\\string.py:234\u001b[0m, in \u001b[0;36mFormatter._vformat\u001b[1;34m(self, format_string, args, kwargs, used_args, recursion_depth, auto_arg_index)\u001b[0m\n\u001b[0;32m    230\u001b[0m     auto_arg_index \u001b[38;5;241m=\u001b[39m \u001b[38;5;28;01mFalse\u001b[39;00m\n\u001b[0;32m    232\u001b[0m \u001b[38;5;66;03m# given the field_name, find the object it references\u001b[39;00m\n\u001b[0;32m    233\u001b[0m \u001b[38;5;66;03m#  and the argument it came from\u001b[39;00m\n\u001b[1;32m--> 234\u001b[0m obj, arg_used \u001b[38;5;241m=\u001b[39m \u001b[38;5;28mself\u001b[39m\u001b[38;5;241m.\u001b[39mget_field(field_name, args, kwargs)\n\u001b[0;32m    235\u001b[0m used_args\u001b[38;5;241m.\u001b[39madd(arg_used)\n\u001b[0;32m    237\u001b[0m \u001b[38;5;66;03m# do any conversion on the resulting object\u001b[39;00m\n",
      "File \u001b[1;32md:\\Yash-Python\\Lib\\string.py:299\u001b[0m, in \u001b[0;36mFormatter.get_field\u001b[1;34m(self, field_name, args, kwargs)\u001b[0m\n\u001b[0;32m    296\u001b[0m \u001b[38;5;28;01mdef\u001b[39;00m \u001b[38;5;21mget_field\u001b[39m(\u001b[38;5;28mself\u001b[39m, field_name, args, kwargs):\n\u001b[0;32m    297\u001b[0m     first, rest \u001b[38;5;241m=\u001b[39m _string\u001b[38;5;241m.\u001b[39mformatter_field_name_split(field_name)\n\u001b[1;32m--> 299\u001b[0m     obj \u001b[38;5;241m=\u001b[39m \u001b[38;5;28mself\u001b[39m\u001b[38;5;241m.\u001b[39mget_value(first, args, kwargs)\n\u001b[0;32m    301\u001b[0m     \u001b[38;5;66;03m# loop through the rest of the field_name, doing\u001b[39;00m\n\u001b[0;32m    302\u001b[0m     \u001b[38;5;66;03m#  getattr or getitem as needed\u001b[39;00m\n\u001b[0;32m    303\u001b[0m     \u001b[38;5;28;01mfor\u001b[39;00m is_attr, i \u001b[38;5;129;01min\u001b[39;00m rest:\n",
      "File \u001b[1;32md:\\Yash-Python\\Lib\\string.py:256\u001b[0m, in \u001b[0;36mFormatter.get_value\u001b[1;34m(self, key, args, kwargs)\u001b[0m\n\u001b[0;32m    254\u001b[0m     \u001b[38;5;28;01mreturn\u001b[39;00m args[key]\n\u001b[0;32m    255\u001b[0m \u001b[38;5;28;01melse\u001b[39;00m:\n\u001b[1;32m--> 256\u001b[0m     \u001b[38;5;28;01mreturn\u001b[39;00m kwargs[key]\n",
      "\u001b[1;31mKeyError\u001b[0m: '\\n    \"Numerical Entities\"'"
     ]
    }
   ],
   "source": [
    "system_prompt_1 = \"\"\"\n",
    "You are an expert data analyzer. Your task is to extract and classify entities from a given query into two categories: **numerical entities** and **non-numerical entities**. Provide the results strictly in the Python dictionary format below:\n",
    "\n",
    "Input Query: \n",
    "{Input_Query}\n",
    "\n",
    "{\n",
    "    \"Numerical Entities\": [list of numerical entities],\n",
    "    \"Non-Numerical Entities\": [list of non-numerical entities]\n",
    "}\n",
    "\n",
    "### Example:\n",
    "\n",
    "Input Query: \n",
    "10 quantities of 2-inch by 2-inch by 3/4-inch threaded tee fitting made of carbon steel (C.S.)\n",
    "\n",
    "Output:\n",
    "\"{\"\n",
    "    \"Numerical Entities\": [\"10\", \"2-inch\", \"2-inch\", \"3/4-inch\"],\n",
    "    \"Non-Numerical Entities\": [\"threaded tee fitting\", \"carbon steel\", \"(C.S.)\"]\n",
    "}\"\n",
    "\n",
    "ONLY GIVE OUTPUT AS A PYTHON DICTIONARY. DO NOT INCLUDE EXTRA INFORMATION, SYMBOLS, OR TEXT.\n",
    "\"\"\"\n",
    "\n",
    "template_1 = ChatPromptTemplate.from_template(system_prompt_1)\n",
    "prompt_value_1 = template_1.format_prompt(\n",
    "    Input_Query=\"2-inch by 2-inch by 3/4-inch threaded tee fitting made of carbon steel (C.S.)\"\n",
    ")\n",
    "\n",
    "response_1 = llm.invoke(prompt_value_1.to_messages()).content\n",
    "\n",
    "print(response_1)\n"
   ]
  },
  {
   "cell_type": "code",
   "execution_count": 201,
   "metadata": {},
   "outputs": [
    {
     "data": {
      "text/plain": [
       "'Numerical Entities: \"2-inch by 2-inch by 3/4-inch\"  \\nNon-Numerical Entities: \"threaded tee fitting\", \"carbon steel\"'"
      ]
     },
     "execution_count": 201,
     "metadata": {},
     "output_type": "execute_result"
    }
   ],
   "source": [
    "respone_1"
   ]
  },
  {
   "cell_type": "code",
   "execution_count": 162,
   "metadata": {},
   "outputs": [],
   "source": [
    "from langchain_core.prompts import ChatPromptTemplate\n",
    "def product_find(state: State):\n",
    "    system_prompt = \"\"\"\n",
    "    You are an expert at matching user queries with inventory items. Given a set of **product details** from a user and an **inventory list** of products, evaluate if the user-provided details match any of the items in the inventory. For a match to be valid, the following conditions must be met:\n",
    "\n",
    "    1) The **dimensions** of the product in the inventory must exactly match the dimensions provided by the user, in the same order and format, with no additions or omissions.\n",
    "    2) The **product name** in the inventory must exactly match the product name specified by the user.\n",
    "\n",
    "    **User-Provided Product Details:**\n",
    "    Product Name:{name}\n",
    "    Product Dimension:{dimension}\n",
    "\n",
    "    **Inventory List:**\n",
    "    {inventory}\n",
    "    \n",
    "\n",
    "    **Expected Output:**\n",
    "    Product: true/false, \n",
    "    Dimension: true/false\n",
    "\n",
    "    ONLY GIVE OUTPUT IN THE GIVEN FORMAT, NO EXTRA INFORMATION, SYMBOLS, TOKEN OR ANY OTHER TEXT IS NECESSARY\n",
    "    \"\"\"\n",
    "    system_prompt_1=\"\"\"\n",
    "        You are an expert data analyzer. Your task is to extract and classify entities from a given query into two categories: **numerical entities** and **non-numerical entities**. Provide the results in the format below:  \n",
    "\n",
    "        **Query:**  \n",
    "        {Input_Query}\n",
    "\n",
    "        **Numerical Entities:**  \n",
    "        [List of numerical entities]  \n",
    "\n",
    "        **Non-Numerical Entities:**  \n",
    "        [List of non-numerical entities]  \n",
    "\n",
    "        ### Example:  \n",
    "\n",
    "        **Query:**  \n",
    "        10 quantites of 2-inch by 2-inch by 3/4-inch threaded tee fitting made of carbon steel (C.S.)  \n",
    "\n",
    "        Numerical Entities: \"10\",\"2-inch by 2-inch by 3/4-inch\" \n",
    "\n",
    "        Non-Numerical Entities: \"threaded tee fitting\", \"carbon steel\"\n",
    "\n",
    "        ONLY GIVE OUPUT IN THE GIVEN FORMAT, NO EXTRA INFORMATION, SYMBOLS, TOKEN OR ANY OTHER TEXT IS NECESSARY\n",
    "\n",
    "    \"\"\"\n",
    "    template = ChatPromptTemplate({\n",
    "        (\"system\",system_prompt),\n",
    "    })\n",
    "\n",
    "    template_1= ChatPromptTemplate({\n",
    "        (\"system\",system_prompt_1)\n",
    "    })\n",
    "    output=[]\n",
    "    for prod_list in state['products_list']:\n",
    "        prompt_value=template.invoke(\n",
    "            {\n",
    "                \"name\":state['output_1']['Product'],\n",
    "                \"dimension\":state['output_1']['Dimension'],\n",
    "                \"inventory\":prod_list\n",
    "            }\n",
    "        )\n",
    "        prompt_value_1=template_1.invoke(\n",
    "            {\n",
    "                \"Input_Query\":state['output_1']['Enriched Query']\n",
    "            }\n",
    "        )\n",
    "        response=llm.invoke(prompt_value).content\n",
    "        temp=list(response.split(','))\n",
    "        respone_1=llm.invoke(prompt_value_1).content\n",
    "        \n",
    "        d = {}\n",
    "        for item in temp:\n",
    "            key, value = item.split(':')\n",
    "            d[key.strip()] = value.strip()  # Strip whitespace from both key and value\n",
    "        output.append(d)\n",
    "    \n",
    "    return {\"t_n_f_list\":output}\n",
    "\n",
    "        "
   ]
  },
  {
   "cell_type": "code",
   "execution_count": 163,
   "metadata": {},
   "outputs": [],
   "source": [
    "from langchain_core.prompts import ChatPromptTemplate\n",
    "def product_find_1():\n",
    "    system_prompt = \"\"\"\n",
    "    You are an expert at matching user queries with inventory items. Given a set of **product details** from a user and an **inventory list** of products, evaluate if the user-provided details match any of the items in the inventory. For a match to be valid, the following conditions must be met:\n",
    "\n",
    "    1) The **dimensions** of the product in the inventory must exactly match the dimensions provided by the user, in the same order and format, with no additions or omissions.\n",
    "    2) The **product name** in the inventory must exactly match the product name specified by the user.\n",
    "\n",
    "    **User-Provided Product Details:**\n",
    "    {Product_details}\n",
    "\n",
    "    **Inventory List:**\n",
    "    {inventory}\n",
    "    \n",
    "\n",
    "    **Expected Output:**\n",
    "    Product: true/false, \n",
    "    Dimension: true/false\n",
    "\n",
    "    ONLY GIVE OUPUT IN THE GIVEN FORMAT, NO EXTRA INFORMATION, SYMBOLS, TOKEN OR ANY OTHER TEXT IS NECESSARY\n",
    "    \"\"\"\n",
    "    template = ChatPromptTemplate({\n",
    "        (\"system\",system_prompt),\n",
    "    })\n",
    "    output=[]\n",
    "    for prod_list in range(1):\n",
    "        prompt_value=template.invoke(\n",
    "            {\n",
    "                \"Product_details\":\" Dimension: 2 in x 2 in x 3/4 in, Product Name: Threaded tee\",\n",
    "                \"inventory\":\"Product_id: 13061100204,description: bmi tee 2x3/4x2 2x3/4x2 blk mi tee ward 2xex2bmt 2x3/4x2in bmi red t\"\n",
    "            }\n",
    "        )\n",
    "        response=llm.invoke(prompt_value)\n",
    "        temp=list(response.content.split(', '))\n",
    "        out={\n",
    "                f\"{temp[0].split(': ')[0]}\":f\"{temp[0].split(': ')[1]}\",\n",
    "                f\"{temp[1].split(': ')[0]}\":f\"{temp[1].split(': ')[1]}\",\n",
    "            }\n",
    "        output.append(out)\n",
    "    \n",
    "    return output"
   ]
  },
  {
   "cell_type": "code",
   "execution_count": 164,
   "metadata": {},
   "outputs": [],
   "source": [
    "res=product_find_1()"
   ]
  },
  {
   "cell_type": "code",
   "execution_count": 165,
   "metadata": {},
   "outputs": [
    {
     "data": {
      "text/plain": [
       "{'Product': 'false', '\\nDimension': 'false'}"
      ]
     },
     "execution_count": 165,
     "metadata": {},
     "output_type": "execute_result"
    }
   ],
   "source": [
    "res[0]"
   ]
  },
  {
   "cell_type": "code",
   "execution_count": 166,
   "metadata": {},
   "outputs": [
    {
     "name": "stdout",
     "output_type": "stream",
     "text": [
      "[]\n"
     ]
    }
   ],
   "source": [
    "temp = []\n",
    "\n",
    "ck=[{'Product': 'false', 'Dimension': 'false'},\n",
    " {'Product': 'false', 'Dimension': 'false'},\n",
    " {'Product': 'false', 'Dimension': 'false'}]\n",
    "for i in range(len(ck)):\n",
    "    # Ensure that each item in t_n_f_list is a dictionary\n",
    "    current_dict = ck[i]\n",
    "    if current_dict['Product']=='true' and current_dict['Dimension']=='true':\n",
    "        temp.append(products_list_1[i])\n",
    "\n",
    "print(temp)"
   ]
  },
  {
   "cell_type": "code",
   "execution_count": 167,
   "metadata": {},
   "outputs": [],
   "source": [
    "def filter(state: State):\n",
    "    temp = []\n",
    "    for i in range(len(state['t_n_f_list'])):\n",
    "        # Ensure that each item in t_n_f_list is a dictionary\n",
    "        current_dict = state['t_n_f_list'][i]\n",
    "        if current_dict['Product']=='true' or current_dict['Dimension']=='true':\n",
    "            temp.append(state['products_list'][i])\n",
    "        \n",
    "\n",
    "    return {'output_2': temp}"
   ]
  },
  {
   "cell_type": "code",
   "execution_count": 168,
   "metadata": {},
   "outputs": [],
   "source": [
    "from langgraph.graph import StateGraph, START, END\n",
    "\n",
    "graph_builder = StateGraph(State)\n",
    "\n",
    "graph_builder.add_node(\"search\", google)\n",
    "graph_builder.add_node(\"enrichment\",query_enrich)\n",
    "graph_builder.add_node(\"product\",product_find)\n",
    "graph_builder.add_node('filter_product',filter)\n",
    "\n",
    "graph_builder.add_edge(START,\"search\")\n",
    "graph_builder.add_edge(\"search\",\"enrichment\")\n",
    "graph_builder.add_edge(\"enrichment\",\"product\")\n",
    "graph_builder.add_edge(\"product\",\"filter_product\")\n",
    "graph_builder.add_edge(\"filter_product\",END)"
   ]
  },
  {
   "cell_type": "code",
   "execution_count": 169,
   "metadata": {},
   "outputs": [],
   "source": [
    "graph=graph_builder.compile()"
   ]
  },
  {
   "cell_type": "code",
   "execution_count": 170,
   "metadata": {},
   "outputs": [
    {
     "data": {
      "image/png": "[encoded data removed]",
      "text/plain": [
       "<IPython.core.display.Image object>"
      ]
     },
     "metadata": {},
     "output_type": "display_data"
    }
   ],
   "source": [
    "from IPython.display import Image, display\n",
    "\n",
    "try:\n",
    "    display(Image(graph.get_graph().draw_mermaid_png()))\n",
    "except Exception:\n",
    "\n",
    "    pass"
   ]
  },
  {
   "cell_type": "code",
   "execution_count": 171,
   "metadata": {},
   "outputs": [],
   "source": [
    "user_input=\"2 in x 2 in x 3/4 in thrd tee C.S\""
   ]
  },
  {
   "cell_type": "code",
   "execution_count": 172,
   "metadata": {},
   "outputs": [],
   "source": [
    "products_list_1=[\n",
    "    {\n",
    "        \"Product_id\": \"13061100204\",\n",
    "        \"description\": \"bmi tee 2x3/4x2 2x3/4x2 blk mi tee ward 2xex2bmt 2x3/4x2in bmi red t\"\n",
    "    },\n",
    "    {\n",
    "        \"Product_id\": \"13061100236\",\n",
    "        \"description\": \"2x3/4 blk mi tee ward 2xebmt 2x2x3/4 bmi red tee bmi tee 2x3/4\"\n",
    "    },\n",
    "    {\n",
    "        \"Product_id\": \"13161100204\",\n",
    "        \"description\": \"ibmi tee2x3/4x2 2x3/4x2 blk imi tee sci 33rt1020006020c 2x3/4x2 lf mi t ibmi tee 2x3/4x2\"\n",
    "    }\n",
    "]"
   ]
  },
  {
   "cell_type": "code",
   "execution_count": 173,
   "metadata": {},
   "outputs": [],
   "source": [
    "products_list=[\n",
    "    {\n",
    "        \"Product_id\": \"13061100204\",\n",
    "        \"description\": \"bmi tee 2x3/4x2 2x3/4x2 blk mi tee ward 2xex2bmt 2x3/4x2in bmi red t\"\n",
    "    },\n",
    "    {\n",
    "        \"Product_id\": \"13061100236\",\n",
    "        \"description\": \"2x3/4 blk mi tee ward 2xebmt 2x2x3/4 bmi red tee bmi tee 2x3/4\"\n",
    "    },\n",
    "    {\n",
    "        \"Product_id\": \"13161100204\",\n",
    "        \"description\": \"ibmi tee2x3/4x2 2x3/4x2 blk imi tee sci 33rt1020006020c 2x3/4x2 lf mi t ibmi tee 2x3/4x2\"\n",
    "    },\n",
    "    {\n",
    "        \"Product_id\": \"13061100211\",\n",
    "        \"description\": \"2x1x2 blk mi tee ward 2x1x2bmt 2x1x2in bmi red tee bmi tee 2x1x2\"\n",
    "    },\n",
    "    {\n",
    "        \"Product_id\": \"13161100236\",\n",
    "        \"description\": \"ibmi tee 2x3/4 2x2x3/4 blk imi tee sci 33rt1020006c 2x3/4 lf 150 mi t\"\n",
    "    },\n",
    "    {\n",
    "        \"Product_id\": \"23161100238\",\n",
    "        \"description\": \"phx tee-red-thd-3m-2x2x1 frgd stl dom fs a105 3000 teethrd 2x1 2 x 2 x 1 3m thd red tee phx tee-red-thd-3m-2x2x1 frgd stl dom fs a105 3000# tee thrd 2x1\"\n",
    "    },\n",
    "    {\n",
    "        \"Product_id\": \"13061100220\",\n",
    "        \"description\": \"2x1-1/4x2 blk mi tee ward 2x1bx2bmt 2x1-1/4x2in bmi tee bmi tee 2x11/4x2\"\n",
    "    },\n",
    "    {\n",
    "        \"Product_id\": \"13061100238\",\n",
    "        \"description\": \"2x1 blk mi tee ward 2x1bmt 2x2x1in bmi red tee bmi tee 2x1\"\n",
    "    },\n",
    "    {\n",
    "        \"Product_id\": \"15061100236\",\n",
    "        \"description\": \"ci 2x2x3/4 screwed tee sci 37rt1020006 2x2x3/4 lf red t bci tee 2x3/4\"\n",
    "    },\n",
    "    {\n",
    "        \"Product_id\": \"13061100232\",\n",
    "        \"description\": \"2x1-1/2x2 blk mi tee ward 2x1dx2bmt 2x1-1/2x2in bmi tee bmi tee 2x11/2x2\"\n",
    "    },\n",
    "    {\n",
    "        \"Product_id\": \"13161100211\",\n",
    "        \"description\": \"2x1x2 blk imi tee sci 33rt1020010020c 2x1x2 lf 150 t ibmi tee 2x1x2\"\n",
    "    },\n",
    "    {\n",
    "        \"Product_id\": \"n83261100186\",\n",
    "        \"description\": \"ss t304 3000# thrd tee 11/2x3/4\"\n",
    "    },\n",
    "    {\n",
    "        \"Product_id\": \"n83261100092\",\n",
    "        \"description\": \"ss 304 3000# thrd tee 3/4x1/2\"\n",
    "    },\n",
    "    {\n",
    "        \"Product_id\": \"23161100234\",\n",
    "        \"description\": \"dom fs a105 3000 teethrd 2x1/2 phx tee-red-thd-3m-2x2x1/2 frgd stl 2 x 2 x 1/2 3m thd red tee phx tee-red-thd-3m-2x2x1/2 frgd stl dom fs a105 3000# tee thrd 2x1/2\"\n",
    "    },\n",
    "    {\n",
    "        \"Product_id\": \"n61061100088\",\n",
    "        \"description\": \"rb tee 3/4x1/4\"\n",
    "    },\n",
    "    {\n",
    "        \"Product_id\": \"n61061100064\",\n",
    "        \"description\": \"rb tee 1/2x3/4\"\n",
    "    },\n",
    "    {\n",
    "        \"Product_id\": \"n15061100204\",\n",
    "        \"description\": \"bci tee 2x3/4x2\"\n",
    "    },\n",
    "    {\n",
    "        \"Product_id\": \"n61061100043\",\n",
    "        \"description\": \"rb tee 3/8x1/4\"\n",
    "    },\n",
    "    {\n",
    "        \"Product_id\": \"n13561100236\",\n",
    "        \"description\": \"bxh tee 2x3/4\"\n",
    "    },\n",
    "    {\n",
    "        \"Product_id\": \"23161100236\",\n",
    "        \"description\": \"dom fs a105 3000 teethrd 2x3/4 2 x 2 x 3/4 3m thd red tee phx tee-red-thd-3m-2x2-3/4 frgd stl phx tee-red-thd-3m-2x2-3/4 frgd stl dom fs a105 3000# tee thrd 2x3/4\"\n",
    "    },\n",
    "    {\n",
    "        \"Product_id\": \"n61061100090\",\n",
    "        \"description\": \"rb tee 3/4x3/8\"\n",
    "    },\n",
    "    {\n",
    "        \"Product_id\": \"17061110294\",\n",
    "        \"description\": \"7064 21/2x21/2x2 ptd thrd brch red tee anv 7064-ptd-2-1/2x2-1/2x2 tee grv x thrd tee 21/2x2\"\n",
    "    },\n",
    "    {\n",
    "        \"Product_id\": \"17061110342\",\n",
    "        \"description\": \"7064 3x3x2 ptd thrd brch red tee anv 7064-ptd-3x3x2 tee grv x thrd tee 3x2\"\n",
    "    },\n",
    "    {\n",
    "        \"Product_id\": \"17061110436\",\n",
    "        \"description\": \"7064 4x4x2 ptd thrd brch red tee anv 7064-ptd-4x4x2 tee grv x thrd tee 4x2\"\n",
    "    },\n",
    "    {\n",
    "        \"Product_id\": \"23161100242\",\n",
    "        \"description\": \"dom fs a105 3000 teethrd 2x1-1/2 2 x 2 x 1-1/2 3m thd red tee phx tee-red-thd-3m-2x2x1-1/2 f/s phx tee-red-thd-3m-2x2x1-1/2 f/s dom fs a105 3000# tee thrd 2x11/2\"\n",
    "    },\n",
    "    {\n",
    "        \"Product_id\": \"23061100238\",\n",
    "        \"description\": \"fs a105 3000 tee thrd 2x1 2 x1 3000 th rtee forged sci 42rt3020010 2x1 3000 f/s tee fs a105 3000# tee thrd 2x1\"\n",
    "    },\n",
    "    {\n",
    "        \"Product_id\": \"23061100242\",\n",
    "        \"description\": \"fs a105 3000 tee thrd2x1-1/2 2 x1 1/2 3000 th rtee forged sci 42rt3020014 2x1-1/2 3000 f/s t fs a105 3000# tee thrd 2x11/2\"\n",
    "    },\n",
    "    {\n",
    "        \"Product_id\": \"15161100234\",\n",
    "        \"description\": \"di 2x2x1/2 screwed tee sci 35rt3020004 2x1/2 lf thrd red t bdi tee 2x1/2\"\n",
    "    },\n",
    "    {\n",
    "        \"Product_id\": \"15161100236\",\n",
    "        \"description\": \"di 2x2x3/4 screwed tee sci 35rt3020006 2x3/4 lf thrd red t bdi tee 2x3/4\"\n",
    "    },\n",
    "    {\n",
    "        \"Product_id\": \"22061100200\",\n",
    "        \"description\": \"2 2000 thrd tee forged sci 42t-2020 2in 2000 f/s thrd tee fs a105 2000 tee thrd 2 fs a105 2000# tee thrd 2\"\n",
    "    },\n",
    "    {\n",
    "        \"Product_id\": \"23061100200\",\n",
    "        \"description\": \"fs a105 3000 tee thrd 2 2 3000 thrd tee forged sci 42t-3020 2in 3000 f/s thrd tee fs a105 3000# tee thrd 2\"\n",
    "    },\n",
    "    {\n",
    "        \"Product_id\": \"40802230200\",\n",
    "        \"description\": \"butterfly valvewaferlever handleci bodyalmn/brnz disc200 wogepdm liner m-vco cw223e-2in ci/ab bfly vlv mil cw223e waf bfv w/hdl 2\"\n",
    "    },\n",
    "    {\n",
    "        \"Product_id\": \"n17061110236\",\n",
    "        \"description\": \"grv x thrd tee 2x3/4\"\n",
    "    },\n",
    "    {\n",
    "        \"Product_id\": \"n23061100236\",\n",
    "        \"description\": \"fs 3000# tee thrd 2x3/4\"\n",
    "    },\n",
    "    {\n",
    "        \"Product_id\": \"65061100204\",\n",
    "        \"description\": \"cop w tee 611 2x3/4x2 611rr 2x3/4x2 cxcxc tee wrot nibco 611rr-2x3/4x2 tee cop w tee #611 2x3/4x2\"\n",
    "    },\n",
    "    {\n",
    "        \"Product_id\": \"n17061110238\",\n",
    "        \"description\": \"grv x thrd tee 2x1\"\n",
    "    },\n",
    "    {\n",
    "        \"Product_id\": \"n17061110510\",\n",
    "        \"description\": \"grv x thrd tee 5x2\"\n",
    "    },\n",
    "    {\n",
    "        \"Product_id\": \"n17061110604\",\n",
    "        \"description\": \"grv x thrd tee 6x2\"\n",
    "    },\n",
    "    {\n",
    "        \"Product_id\": \"n17061110242\",\n",
    "        \"description\": \"grv x thrd tee 2x11/2\"\n",
    "    },\n",
    "    {\n",
    "        \"Product_id\": \"61061100236\",\n",
    "        \"description\": \"rb tee2x3/4 2 x3/4 125 r tee brz sci 36rt1020006c 2x3/4 125 brz tee rb tee 2x3/4\"\n",
    "    },\n",
    "    {\n",
    "        \"Product_id\": \"65061100236\",\n",
    "        \"description\": \"611r 2x2x3/4 cxcxc tee wrot nibco 611r-2x2x3/4 cxcxc tee cop w tee 611 2x3/4 cop w tee #611 2x3/4\"\n",
    "    }\n",
    "]"
   ]
  },
  {
   "cell_type": "code",
   "execution_count": 174,
   "metadata": {},
   "outputs": [],
   "source": [
    "response = graph.invoke({\n",
    "    \"query\":f\"{user_input}\",\n",
    "    \"products_list\":products_list\n",
    "})"
   ]
  },
  {
   "cell_type": "code",
   "execution_count": 175,
   "metadata": {},
   "outputs": [
    {
     "data": {
      "text/plain": [
       "'2 in x 2 in x 3/4 in thrd tee C.S'"
      ]
     },
     "execution_count": 175,
     "metadata": {},
     "output_type": "execute_result"
    }
   ],
   "source": [
    "response['query']"
   ]
  },
  {
   "cell_type": "code",
   "execution_count": 176,
   "metadata": {},
   "outputs": [
    {
     "data": {
      "text/plain": [
       "{'Product': 'N/A',\n",
       " 'Dimension': '2 in x 2 in x 3/4 in',\n",
       " 'Enriched Query': '2-inch by 2-inch by 3/4-inch threaded tee fitting made of carbon steel (C.S.)'}"
      ]
     },
     "execution_count": 176,
     "metadata": {},
     "output_type": "execute_result"
    }
   ],
   "source": [
    "response['output_1']"
   ]
  },
  {
   "cell_type": "code",
   "execution_count": 179,
   "metadata": {},
   "outputs": [
    {
     "data": {
      "text/plain": [
       "[{'Product_id': '23161100236',\n",
       "  'description': 'dom fs a105 3000 teethrd 2x3/4 2 x 2 x 3/4 3m thd red tee phx tee-red-thd-3m-2x2-3/4 frgd stl phx tee-red-thd-3m-2x2-3/4 frgd stl dom fs a105 3000# tee thrd 2x3/4'},\n",
       " {'Product_id': '65061100204',\n",
       "  'description': 'cop w tee 611 2x3/4x2 611rr 2x3/4x2 cxcxc tee wrot nibco 611rr-2x3/4x2 tee cop w tee #611 2x3/4x2'}]"
      ]
     },
     "execution_count": 179,
     "metadata": {},
     "output_type": "execute_result"
    }
   ],
   "source": [
    "response['output_2']"
   ]
  }
 ],
 "metadata": {
  "kernelspec": {
   "display_name": "base",
   "language": "python",
   "name": "python3"
  },
  "language_info": {
   "codemirror_mode": {
    "name": "ipython",
    "version": 3
   },
   "file_extension": ".py",
   "mimetype": "text/x-python",
   "name": "python",
   "nbconvert_exporter": "python",
   "pygments_lexer": "ipython3",
   "version": "3.12.4"
  }
 },
 "nbformat": 4,
 "nbformat_minor": 2
}
